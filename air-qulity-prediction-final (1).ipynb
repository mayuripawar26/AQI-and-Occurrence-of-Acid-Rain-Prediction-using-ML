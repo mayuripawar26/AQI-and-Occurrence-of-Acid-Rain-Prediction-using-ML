{
 "cells": [
  {
   "cell_type": "code",
   "execution_count": 1,
   "id": "4626e09f",
   "metadata": {
    "_cell_guid": "b1076dfc-b9ad-4769-8c92-a6c4dae69d19",
    "_uuid": "8f2839f25d086af736a60e9eeb907d3b93b6e0e5",
    "execution": {
     "iopub.execute_input": "2022-07-15T15:23:28.434689Z",
     "iopub.status.busy": "2022-07-15T15:23:28.434141Z",
     "iopub.status.idle": "2022-07-15T15:23:39.912376Z",
     "shell.execute_reply": "2022-07-15T15:23:39.911086Z"
    },
    "papermill": {
     "duration": 11.508273,
     "end_time": "2022-07-15T15:23:39.916440",
     "exception": false,
     "start_time": "2022-07-15T15:23:28.408167",
     "status": "completed"
    },
    "tags": []
   },
   "outputs": [],
   "source": [
    "import tensorflow as tf\n",
    "from tensorflow import keras \n",
    "import pandas as pd\n",
    "import numpy as np\n",
    "from matplotlib import pyplot as plt\n",
    "import seaborn as sns\n",
    "\n",
    "import warnings\n",
    "warnings.simplefilter(\"ignore\")"
   ]
  },
  {
   "cell_type": "markdown",
   "id": "bcce92e7",
   "metadata": {
    "papermill": {
     "duration": 0.021505,
     "end_time": "2022-07-15T15:23:39.958699",
     "exception": false,
     "start_time": "2022-07-15T15:23:39.937194",
     "status": "completed"
    },
    "tags": []
   },
   "source": [
    "# # Data Set"
   ]
  },
  {
   "cell_type": "code",
   "execution_count": 2,
   "id": "b565bc9b",
   "metadata": {
    "execution": {
     "iopub.execute_input": "2022-07-15T15:23:40.001499Z",
     "iopub.status.busy": "2022-07-15T15:23:40.000380Z",
     "iopub.status.idle": "2022-07-15T15:23:40.351236Z",
     "shell.execute_reply": "2022-07-15T15:23:40.349879Z"
    },
    "papermill": {
     "duration": 0.375488,
     "end_time": "2022-07-15T15:23:40.354050",
     "exception": false,
     "start_time": "2022-07-15T15:23:39.978562",
     "status": "completed"
    },
    "tags": []
   },
   "outputs": [],
   "source": [
    "station_day = pd.read_csv(\"C:/Users/rutur/OneDrive/Desktop/AQI/station_day.csv\")"
   ]
  },
  {
   "cell_type": "code",
   "execution_count": 3,
   "id": "9615c4be",
   "metadata": {
    "execution": {
     "iopub.execute_input": "2022-07-15T15:23:40.397367Z",
     "iopub.status.busy": "2022-07-15T15:23:40.396971Z",
     "iopub.status.idle": "2022-07-15T15:23:40.434793Z",
     "shell.execute_reply": "2022-07-15T15:23:40.433221Z"
    },
    "papermill": {
     "duration": 0.06274,
     "end_time": "2022-07-15T15:23:40.437728",
     "exception": false,
     "start_time": "2022-07-15T15:23:40.374988",
     "status": "completed"
    },
    "tags": []
   },
   "outputs": [
    {
     "data": {
      "text/html": [
       "<div>\n",
       "<style scoped>\n",
       "    .dataframe tbody tr th:only-of-type {\n",
       "        vertical-align: middle;\n",
       "    }\n",
       "\n",
       "    .dataframe tbody tr th {\n",
       "        vertical-align: top;\n",
       "    }\n",
       "\n",
       "    .dataframe thead th {\n",
       "        text-align: right;\n",
       "    }\n",
       "</style>\n",
       "<table border=\"1\" class=\"dataframe\">\n",
       "  <thead>\n",
       "    <tr style=\"text-align: right;\">\n",
       "      <th></th>\n",
       "      <th>StationId</th>\n",
       "      <th>Date</th>\n",
       "      <th>PM2.5</th>\n",
       "      <th>PM10</th>\n",
       "      <th>NO</th>\n",
       "      <th>NO2</th>\n",
       "      <th>NOx</th>\n",
       "      <th>NH3</th>\n",
       "      <th>CO</th>\n",
       "      <th>SO2</th>\n",
       "      <th>O3</th>\n",
       "      <th>Benzene</th>\n",
       "      <th>Toluene</th>\n",
       "      <th>Xylene</th>\n",
       "      <th>AQI</th>\n",
       "      <th>AQI_Bucket</th>\n",
       "    </tr>\n",
       "  </thead>\n",
       "  <tbody>\n",
       "    <tr>\n",
       "      <th>0</th>\n",
       "      <td>AP001</td>\n",
       "      <td>2017-11-24</td>\n",
       "      <td>71.36</td>\n",
       "      <td>115.75</td>\n",
       "      <td>1.75</td>\n",
       "      <td>20.65</td>\n",
       "      <td>12.40</td>\n",
       "      <td>12.19</td>\n",
       "      <td>0.10</td>\n",
       "      <td>10.76</td>\n",
       "      <td>109.26</td>\n",
       "      <td>0.17</td>\n",
       "      <td>5.92</td>\n",
       "      <td>0.10</td>\n",
       "      <td>NaN</td>\n",
       "      <td>NaN</td>\n",
       "    </tr>\n",
       "    <tr>\n",
       "      <th>1</th>\n",
       "      <td>AP001</td>\n",
       "      <td>2017-11-25</td>\n",
       "      <td>81.40</td>\n",
       "      <td>124.50</td>\n",
       "      <td>1.44</td>\n",
       "      <td>20.50</td>\n",
       "      <td>12.08</td>\n",
       "      <td>10.72</td>\n",
       "      <td>0.12</td>\n",
       "      <td>15.24</td>\n",
       "      <td>127.09</td>\n",
       "      <td>0.20</td>\n",
       "      <td>6.50</td>\n",
       "      <td>0.06</td>\n",
       "      <td>184.0</td>\n",
       "      <td>Moderate</td>\n",
       "    </tr>\n",
       "    <tr>\n",
       "      <th>2</th>\n",
       "      <td>AP001</td>\n",
       "      <td>2017-11-26</td>\n",
       "      <td>78.32</td>\n",
       "      <td>129.06</td>\n",
       "      <td>1.26</td>\n",
       "      <td>26.00</td>\n",
       "      <td>14.85</td>\n",
       "      <td>10.28</td>\n",
       "      <td>0.14</td>\n",
       "      <td>26.96</td>\n",
       "      <td>117.44</td>\n",
       "      <td>0.22</td>\n",
       "      <td>7.95</td>\n",
       "      <td>0.08</td>\n",
       "      <td>197.0</td>\n",
       "      <td>Moderate</td>\n",
       "    </tr>\n",
       "  </tbody>\n",
       "</table>\n",
       "</div>"
      ],
      "text/plain": [
       "  StationId        Date  PM2.5    PM10    NO    NO2    NOx    NH3    CO  \\\n",
       "0     AP001  2017-11-24  71.36  115.75  1.75  20.65  12.40  12.19  0.10   \n",
       "1     AP001  2017-11-25  81.40  124.50  1.44  20.50  12.08  10.72  0.12   \n",
       "2     AP001  2017-11-26  78.32  129.06  1.26  26.00  14.85  10.28  0.14   \n",
       "\n",
       "     SO2      O3  Benzene  Toluene  Xylene    AQI AQI_Bucket  \n",
       "0  10.76  109.26     0.17     5.92    0.10    NaN        NaN  \n",
       "1  15.24  127.09     0.20     6.50    0.06  184.0   Moderate  \n",
       "2  26.96  117.44     0.22     7.95    0.08  197.0   Moderate  "
      ]
     },
     "execution_count": 3,
     "metadata": {},
     "output_type": "execute_result"
    }
   ],
   "source": [
    "station_day.head(3)"
   ]
  },
  {
   "cell_type": "code",
   "execution_count": 4,
   "id": "5fc43b9b",
   "metadata": {
    "execution": {
     "iopub.execute_input": "2022-07-15T15:23:40.482293Z",
     "iopub.status.busy": "2022-07-15T15:23:40.481522Z",
     "iopub.status.idle": "2022-07-15T15:23:40.547490Z",
     "shell.execute_reply": "2022-07-15T15:23:40.545590Z"
    },
    "papermill": {
     "duration": 0.091281,
     "end_time": "2022-07-15T15:23:40.550090",
     "exception": false,
     "start_time": "2022-07-15T15:23:40.458809",
     "status": "completed"
    },
    "tags": []
   },
   "outputs": [
    {
     "name": "stdout",
     "output_type": "stream",
     "text": [
      "<class 'pandas.core.frame.DataFrame'>\n",
      "RangeIndex: 108035 entries, 0 to 108034\n",
      "Data columns (total 16 columns):\n",
      " #   Column      Non-Null Count   Dtype  \n",
      "---  ------      --------------   -----  \n",
      " 0   StationId   108035 non-null  object \n",
      " 1   Date        108035 non-null  object \n",
      " 2   PM2.5       86410 non-null   float64\n",
      " 3   PM10        65329 non-null   float64\n",
      " 4   NO          90929 non-null   float64\n",
      " 5   NO2         91488 non-null   float64\n",
      " 6   NOx         92535 non-null   float64\n",
      " 7   NH3         59930 non-null   float64\n",
      " 8   CO          95037 non-null   float64\n",
      " 9   SO2         82831 non-null   float64\n",
      " 10  O3          82467 non-null   float64\n",
      " 11  Benzene     76580 non-null   float64\n",
      " 12  Toluene     69333 non-null   float64\n",
      " 13  Xylene      22898 non-null   float64\n",
      " 14  AQI         87025 non-null   float64\n",
      " 15  AQI_Bucket  87025 non-null   object \n",
      "dtypes: float64(13), object(3)\n",
      "memory usage: 13.2+ MB\n"
     ]
    }
   ],
   "source": [
    "station_day.info()"
   ]
  },
  {
   "cell_type": "markdown",
   "id": "d8098f46",
   "metadata": {
    "papermill": {
     "duration": 0.020344,
     "end_time": "2022-07-15T15:23:40.590942",
     "exception": false,
     "start_time": "2022-07-15T15:23:40.570598",
     "status": "completed"
    },
    "tags": []
   },
   "source": [
    "# --------------------------------------- ARIMA ---------------------------------------\n",
    "\n",
    "Arima model is a time series model . That means we can predcit how AQI change by time"
   ]
  },
  {
   "cell_type": "code",
   "execution_count": 5,
   "id": "056de1b7",
   "metadata": {
    "execution": {
     "iopub.execute_input": "2022-07-15T15:23:40.635064Z",
     "iopub.status.busy": "2022-07-15T15:23:40.634361Z",
     "iopub.status.idle": "2022-07-15T15:23:40.642697Z",
     "shell.execute_reply": "2022-07-15T15:23:40.641515Z"
    },
    "papermill": {
     "duration": 0.034065,
     "end_time": "2022-07-15T15:23:40.645539",
     "exception": false,
     "start_time": "2022-07-15T15:23:40.611474",
     "status": "completed"
    },
    "tags": []
   },
   "outputs": [],
   "source": [
    "arima_df = station_day[['Date','AQI']]"
   ]
  },
  {
   "cell_type": "code",
   "execution_count": 6,
   "id": "c97e747b",
   "metadata": {
    "execution": {
     "iopub.execute_input": "2022-07-15T15:23:40.688621Z",
     "iopub.status.busy": "2022-07-15T15:23:40.688167Z",
     "iopub.status.idle": "2022-07-15T15:23:40.730303Z",
     "shell.execute_reply": "2022-07-15T15:23:40.729194Z"
    },
    "papermill": {
     "duration": 0.06677,
     "end_time": "2022-07-15T15:23:40.732847",
     "exception": false,
     "start_time": "2022-07-15T15:23:40.666077",
     "status": "completed"
    },
    "tags": []
   },
   "outputs": [],
   "source": [
    "arima_df[\"Date\"]= pd.to_datetime(arima_df[\"Date\"])"
   ]
  },
  {
   "cell_type": "code",
   "execution_count": 7,
   "id": "b34e4e7c",
   "metadata": {
    "execution": {
     "iopub.execute_input": "2022-07-15T15:23:40.779215Z",
     "iopub.status.busy": "2022-07-15T15:23:40.777728Z",
     "iopub.status.idle": "2022-07-15T15:23:40.851148Z",
     "shell.execute_reply": "2022-07-15T15:23:40.849912Z"
    },
    "papermill": {
     "duration": 0.100393,
     "end_time": "2022-07-15T15:23:40.853994",
     "exception": false,
     "start_time": "2022-07-15T15:23:40.753601",
     "status": "completed"
    },
    "tags": []
   },
   "outputs": [],
   "source": [
    "arima_df.AQI = arima_df.groupby(pd.PeriodIndex(arima_df['Date'], freq=\"M\"))['AQI'].apply(lambda x: x.fillna(x.mean()))"
   ]
  },
  {
   "cell_type": "code",
   "execution_count": 8,
   "id": "f75d65cf",
   "metadata": {
    "execution": {
     "iopub.execute_input": "2022-07-15T15:23:40.899430Z",
     "iopub.status.busy": "2022-07-15T15:23:40.898959Z",
     "iopub.status.idle": "2022-07-15T15:23:40.921883Z",
     "shell.execute_reply": "2022-07-15T15:23:40.920668Z"
    },
    "papermill": {
     "duration": 0.047861,
     "end_time": "2022-07-15T15:23:40.924549",
     "exception": false,
     "start_time": "2022-07-15T15:23:40.876688",
     "status": "completed"
    },
    "tags": []
   },
   "outputs": [],
   "source": [
    "ts = arima_df.groupby(pd.PeriodIndex(arima_df['Date'], freq=\"M\"))['AQI'].mean()"
   ]
  },
  {
   "cell_type": "code",
   "execution_count": 9,
   "id": "dc9702c7",
   "metadata": {
    "execution": {
     "iopub.execute_input": "2022-07-15T15:23:40.968098Z",
     "iopub.status.busy": "2022-07-15T15:23:40.967367Z",
     "iopub.status.idle": "2022-07-15T15:23:41.330659Z",
     "shell.execute_reply": "2022-07-15T15:23:41.329201Z"
    },
    "papermill": {
     "duration": 0.38784,
     "end_time": "2022-07-15T15:23:41.333437",
     "exception": false,
     "start_time": "2022-07-15T15:23:40.945597",
     "status": "completed"
    },
    "tags": []
   },
   "outputs": [
    {
     "data": {
      "image/png": "[encoded data removed]",
      "text/plain": [
       "<Figure size 1440x720 with 1 Axes>"
      ]
     },
     "metadata": {
      "needs_background": "light"
     },
     "output_type": "display_data"
    }
   ],
   "source": [
    "plt.figure(figsize = (20,10))\n",
    "ts.plot()\n",
    "plt.show()"
   ]
  },
  {
   "cell_type": "markdown",
   "id": "bce4a6f5",
   "metadata": {
    "papermill": {
     "duration": 0.021065,
     "end_time": "2022-07-15T15:23:41.375902",
     "exception": false,
     "start_time": "2022-07-15T15:23:41.354837",
     "status": "completed"
    },
    "tags": []
   },
   "source": [
    "**Doing adfuller test to identify the data set is stationay or not**"
   ]
  },
  {
   "cell_type": "code",
   "execution_count": 10,
   "id": "a9e263ad",
   "metadata": {
    "execution": {
     "iopub.execute_input": "2022-07-15T15:23:41.421678Z",
     "iopub.status.busy": "2022-07-15T15:23:41.421247Z",
     "iopub.status.idle": "2022-07-15T15:23:41.672096Z",
     "shell.execute_reply": "2022-07-15T15:23:41.670355Z"
    },
    "papermill": {
     "duration": 0.277258,
     "end_time": "2022-07-15T15:23:41.675375",
     "exception": false,
     "start_time": "2022-07-15T15:23:41.398117",
     "status": "completed"
    },
    "tags": []
   },
   "outputs": [
    {
     "name": "stdout",
     "output_type": "stream",
     "text": [
      "ADF Statistic: -1.224505\n",
      "p-value: 0.662967\n"
     ]
    }
   ],
   "source": [
    "from statsmodels.tsa.stattools import adfuller\n",
    "from numpy import log\n",
    "result = adfuller(ts)\n",
    "print('ADF Statistic: %f' % result[0])\n",
    "print('p-value: %f' % result[1])"
   ]
  },
  {
   "cell_type": "code",
   "execution_count": 11,
   "id": "771fdbba",
   "metadata": {
    "execution": {
     "iopub.execute_input": "2022-07-15T15:23:41.720077Z",
     "iopub.status.busy": "2022-07-15T15:23:41.719661Z",
     "iopub.status.idle": "2022-07-15T15:23:41.726015Z",
     "shell.execute_reply": "2022-07-15T15:23:41.724627Z"
    },
    "papermill": {
     "duration": 0.031724,
     "end_time": "2022-07-15T15:23:41.728695",
     "exception": false,
     "start_time": "2022-07-15T15:23:41.696971",
     "status": "completed"
    },
    "tags": []
   },
   "outputs": [],
   "source": [
    "ts_train = ts[:50]\n",
    "ts_test = ts[50:]"
   ]
  },
  {
   "cell_type": "code",
   "execution_count": 12,
   "id": "20d226c8",
   "metadata": {
    "execution": {
     "iopub.execute_input": "2022-07-15T15:23:41.777315Z",
     "iopub.status.busy": "2022-07-15T15:23:41.776299Z",
     "iopub.status.idle": "2022-07-15T15:23:41.936597Z",
     "shell.execute_reply": "2022-07-15T15:23:41.935368Z"
    },
    "papermill": {
     "duration": 0.188205,
     "end_time": "2022-07-15T15:23:41.939354",
     "exception": false,
     "start_time": "2022-07-15T15:23:41.751149",
     "status": "completed"
    },
    "tags": []
   },
   "outputs": [],
   "source": [
    "from statsmodels.tsa.arima.model import ARIMA"
   ]
  },
  {
   "cell_type": "code",
   "execution_count": 13,
   "id": "5360c335",
   "metadata": {
    "execution": {
     "iopub.execute_input": "2022-07-15T15:23:41.988886Z",
     "iopub.status.busy": "2022-07-15T15:23:41.988493Z",
     "iopub.status.idle": "2022-07-15T15:23:42.217748Z",
     "shell.execute_reply": "2022-07-15T15:23:42.216124Z"
    },
    "papermill": {
     "duration": 0.259911,
     "end_time": "2022-07-15T15:23:42.220922",
     "exception": false,
     "start_time": "2022-07-15T15:23:41.961011",
     "status": "completed"
    },
    "tags": []
   },
   "outputs": [],
   "source": [
    "import itertools\n",
    "from sklearn.metrics import mean_squared_error"
   ]
  },
  {
   "cell_type": "code",
   "execution_count": 14,
   "id": "9a29c999",
   "metadata": {
    "execution": {
     "iopub.execute_input": "2022-07-15T15:23:42.265814Z",
     "iopub.status.busy": "2022-07-15T15:23:42.265121Z",
     "iopub.status.idle": "2022-07-15T15:23:42.270434Z",
     "shell.execute_reply": "2022-07-15T15:23:42.269177Z"
    },
    "papermill": {
     "duration": 0.030369,
     "end_time": "2022-07-15T15:23:42.272714",
     "exception": false,
     "start_time": "2022-07-15T15:23:42.242345",
     "status": "completed"
    },
    "tags": []
   },
   "outputs": [],
   "source": [
    "p = range(0,8)\n",
    "q = range(0,8)\n",
    "d = range(0,2)"
   ]
  },
  {
   "cell_type": "code",
   "execution_count": 15,
   "id": "48b42cde",
   "metadata": {
    "execution": {
     "iopub.execute_input": "2022-07-15T15:23:42.317175Z",
     "iopub.status.busy": "2022-07-15T15:23:42.316728Z",
     "iopub.status.idle": "2022-07-15T15:23:42.321681Z",
     "shell.execute_reply": "2022-07-15T15:23:42.320816Z"
    },
    "papermill": {
     "duration": 0.031434,
     "end_time": "2022-07-15T15:23:42.325389",
     "exception": false,
     "start_time": "2022-07-15T15:23:42.293955",
     "status": "completed"
    },
    "tags": []
   },
   "outputs": [],
   "source": [
    "pqd_combination = list(itertools.product(p,d,q))"
   ]
  },
  {
   "cell_type": "code",
   "execution_count": 16,
   "id": "bfd9578a",
   "metadata": {
    "execution": {
     "iopub.execute_input": "2022-07-15T15:23:42.376375Z",
     "iopub.status.busy": "2022-07-15T15:23:42.375971Z",
     "iopub.status.idle": "2022-07-15T15:23:42.381162Z",
     "shell.execute_reply": "2022-07-15T15:23:42.379967Z"
    },
    "papermill": {
     "duration": 0.031378,
     "end_time": "2022-07-15T15:23:42.383832",
     "exception": false,
     "start_time": "2022-07-15T15:23:42.352454",
     "status": "completed"
    },
    "tags": []
   },
   "outputs": [],
   "source": [
    "error = []\n",
    "pqd = []"
   ]
  },
  {
   "cell_type": "code",
   "execution_count": 17,
   "id": "2975f7c2",
   "metadata": {
    "execution": {
     "iopub.execute_input": "2022-07-15T15:23:42.428467Z",
     "iopub.status.busy": "2022-07-15T15:23:42.428015Z",
     "iopub.status.idle": "2022-07-15T15:24:51.521615Z",
     "shell.execute_reply": "2022-07-15T15:24:51.519717Z"
    },
    "papermill": {
     "duration": 69.122753,
     "end_time": "2022-07-15T15:24:51.527978",
     "exception": false,
     "start_time": "2022-07-15T15:23:42.405225",
     "status": "completed"
    },
    "tags": []
   },
   "outputs": [
    {
     "name": "stderr",
     "output_type": "stream",
     "text": [
      "C:\\Users\\rutur\\anaconda3\\lib\\site-packages\\statsmodels\\base\\model.py:566: ConvergenceWarning: Maximum Likelihood optimization failed to converge. Check mle_retvals\n",
      "  warnings.warn(\"Maximum Likelihood optimization failed to \"\n",
      "C:\\Users\\rutur\\anaconda3\\lib\\site-packages\\statsmodels\\base\\model.py:566: ConvergenceWarning: Maximum Likelihood optimization failed to converge. Check mle_retvals\n",
      "  warnings.warn(\"Maximum Likelihood optimization failed to \"\n",
      "C:\\Users\\rutur\\anaconda3\\lib\\site-packages\\statsmodels\\base\\model.py:566: ConvergenceWarning: Maximum Likelihood optimization failed to converge. Check mle_retvals\n",
      "  warnings.warn(\"Maximum Likelihood optimization failed to \"\n",
      "C:\\Users\\rutur\\anaconda3\\lib\\site-packages\\statsmodels\\base\\model.py:566: ConvergenceWarning: Maximum Likelihood optimization failed to converge. Check mle_retvals\n",
      "  warnings.warn(\"Maximum Likelihood optimization failed to \"\n",
      "C:\\Users\\rutur\\anaconda3\\lib\\site-packages\\statsmodels\\base\\model.py:566: ConvergenceWarning: Maximum Likelihood optimization failed to converge. Check mle_retvals\n",
      "  warnings.warn(\"Maximum Likelihood optimization failed to \"\n",
      "C:\\Users\\rutur\\anaconda3\\lib\\site-packages\\statsmodels\\base\\model.py:566: ConvergenceWarning: Maximum Likelihood optimization failed to converge. Check mle_retvals\n",
      "  warnings.warn(\"Maximum Likelihood optimization failed to \"\n",
      "C:\\Users\\rutur\\anaconda3\\lib\\site-packages\\statsmodels\\base\\model.py:566: ConvergenceWarning: Maximum Likelihood optimization failed to converge. Check mle_retvals\n",
      "  warnings.warn(\"Maximum Likelihood optimization failed to \"\n",
      "C:\\Users\\rutur\\anaconda3\\lib\\site-packages\\statsmodels\\base\\model.py:566: ConvergenceWarning: Maximum Likelihood optimization failed to converge. Check mle_retvals\n",
      "  warnings.warn(\"Maximum Likelihood optimization failed to \"\n",
      "C:\\Users\\rutur\\anaconda3\\lib\\site-packages\\statsmodels\\base\\model.py:566: ConvergenceWarning: Maximum Likelihood optimization failed to converge. Check mle_retvals\n",
      "  warnings.warn(\"Maximum Likelihood optimization failed to \"\n",
      "C:\\Users\\rutur\\anaconda3\\lib\\site-packages\\statsmodels\\base\\model.py:566: ConvergenceWarning: Maximum Likelihood optimization failed to converge. Check mle_retvals\n",
      "  warnings.warn(\"Maximum Likelihood optimization failed to \"\n",
      "C:\\Users\\rutur\\anaconda3\\lib\\site-packages\\statsmodels\\base\\model.py:566: ConvergenceWarning: Maximum Likelihood optimization failed to converge. Check mle_retvals\n",
      "  warnings.warn(\"Maximum Likelihood optimization failed to \"\n",
      "C:\\Users\\rutur\\anaconda3\\lib\\site-packages\\statsmodels\\base\\model.py:566: ConvergenceWarning: Maximum Likelihood optimization failed to converge. Check mle_retvals\n",
      "  warnings.warn(\"Maximum Likelihood optimization failed to \"\n",
      "C:\\Users\\rutur\\anaconda3\\lib\\site-packages\\statsmodels\\base\\model.py:566: ConvergenceWarning: Maximum Likelihood optimization failed to converge. Check mle_retvals\n",
      "  warnings.warn(\"Maximum Likelihood optimization failed to \"\n",
      "C:\\Users\\rutur\\anaconda3\\lib\\site-packages\\statsmodels\\base\\model.py:566: ConvergenceWarning: Maximum Likelihood optimization failed to converge. Check mle_retvals\n",
      "  warnings.warn(\"Maximum Likelihood optimization failed to \"\n",
      "C:\\Users\\rutur\\anaconda3\\lib\\site-packages\\statsmodels\\base\\model.py:566: ConvergenceWarning: Maximum Likelihood optimization failed to converge. Check mle_retvals\n",
      "  warnings.warn(\"Maximum Likelihood optimization failed to \"\n",
      "C:\\Users\\rutur\\anaconda3\\lib\\site-packages\\statsmodels\\base\\model.py:566: ConvergenceWarning: Maximum Likelihood optimization failed to converge. Check mle_retvals\n",
      "  warnings.warn(\"Maximum Likelihood optimization failed to \"\n",
      "C:\\Users\\rutur\\anaconda3\\lib\\site-packages\\statsmodels\\base\\model.py:566: ConvergenceWarning: Maximum Likelihood optimization failed to converge. Check mle_retvals\n",
      "  warnings.warn(\"Maximum Likelihood optimization failed to \"\n",
      "C:\\Users\\rutur\\anaconda3\\lib\\site-packages\\statsmodels\\base\\model.py:566: ConvergenceWarning: Maximum Likelihood optimization failed to converge. Check mle_retvals\n",
      "  warnings.warn(\"Maximum Likelihood optimization failed to \"\n",
      "C:\\Users\\rutur\\anaconda3\\lib\\site-packages\\statsmodels\\base\\model.py:566: ConvergenceWarning: Maximum Likelihood optimization failed to converge. Check mle_retvals\n",
      "  warnings.warn(\"Maximum Likelihood optimization failed to \"\n",
      "C:\\Users\\rutur\\anaconda3\\lib\\site-packages\\statsmodels\\base\\model.py:566: ConvergenceWarning: Maximum Likelihood optimization failed to converge. Check mle_retvals\n",
      "  warnings.warn(\"Maximum Likelihood optimization failed to \"\n",
      "C:\\Users\\rutur\\anaconda3\\lib\\site-packages\\statsmodels\\base\\model.py:566: ConvergenceWarning: Maximum Likelihood optimization failed to converge. Check mle_retvals\n",
      "  warnings.warn(\"Maximum Likelihood optimization failed to \"\n",
      "C:\\Users\\rutur\\anaconda3\\lib\\site-packages\\statsmodels\\base\\model.py:566: ConvergenceWarning: Maximum Likelihood optimization failed to converge. Check mle_retvals\n",
      "  warnings.warn(\"Maximum Likelihood optimization failed to \"\n",
      "C:\\Users\\rutur\\anaconda3\\lib\\site-packages\\statsmodels\\base\\model.py:566: ConvergenceWarning: Maximum Likelihood optimization failed to converge. Check mle_retvals\n",
      "  warnings.warn(\"Maximum Likelihood optimization failed to \"\n",
      "C:\\Users\\rutur\\anaconda3\\lib\\site-packages\\statsmodels\\base\\model.py:566: ConvergenceWarning: Maximum Likelihood optimization failed to converge. Check mle_retvals\n",
      "  warnings.warn(\"Maximum Likelihood optimization failed to \"\n",
      "C:\\Users\\rutur\\anaconda3\\lib\\site-packages\\statsmodels\\base\\model.py:566: ConvergenceWarning: Maximum Likelihood optimization failed to converge. Check mle_retvals\n",
      "  warnings.warn(\"Maximum Likelihood optimization failed to \"\n",
      "C:\\Users\\rutur\\anaconda3\\lib\\site-packages\\statsmodels\\base\\model.py:566: ConvergenceWarning: Maximum Likelihood optimization failed to converge. Check mle_retvals\n",
      "  warnings.warn(\"Maximum Likelihood optimization failed to \"\n",
      "C:\\Users\\rutur\\anaconda3\\lib\\site-packages\\statsmodels\\base\\model.py:566: ConvergenceWarning: Maximum Likelihood optimization failed to converge. Check mle_retvals\n",
      "  warnings.warn(\"Maximum Likelihood optimization failed to \"\n",
      "C:\\Users\\rutur\\anaconda3\\lib\\site-packages\\statsmodels\\base\\model.py:566: ConvergenceWarning: Maximum Likelihood optimization failed to converge. Check mle_retvals\n",
      "  warnings.warn(\"Maximum Likelihood optimization failed to \"\n",
      "C:\\Users\\rutur\\anaconda3\\lib\\site-packages\\statsmodels\\base\\model.py:566: ConvergenceWarning: Maximum Likelihood optimization failed to converge. Check mle_retvals\n",
      "  warnings.warn(\"Maximum Likelihood optimization failed to \"\n",
      "C:\\Users\\rutur\\anaconda3\\lib\\site-packages\\statsmodels\\base\\model.py:566: ConvergenceWarning: Maximum Likelihood optimization failed to converge. Check mle_retvals\n",
      "  warnings.warn(\"Maximum Likelihood optimization failed to \"\n",
      "C:\\Users\\rutur\\anaconda3\\lib\\site-packages\\statsmodels\\base\\model.py:566: ConvergenceWarning: Maximum Likelihood optimization failed to converge. Check mle_retvals\n",
      "  warnings.warn(\"Maximum Likelihood optimization failed to \"\n",
      "C:\\Users\\rutur\\anaconda3\\lib\\site-packages\\statsmodels\\base\\model.py:566: ConvergenceWarning: Maximum Likelihood optimization failed to converge. Check mle_retvals\n",
      "  warnings.warn(\"Maximum Likelihood optimization failed to \"\n",
      "C:\\Users\\rutur\\anaconda3\\lib\\site-packages\\statsmodels\\base\\model.py:566: ConvergenceWarning: Maximum Likelihood optimization failed to converge. Check mle_retvals\n",
      "  warnings.warn(\"Maximum Likelihood optimization failed to \"\n",
      "C:\\Users\\rutur\\anaconda3\\lib\\site-packages\\statsmodels\\base\\model.py:566: ConvergenceWarning: Maximum Likelihood optimization failed to converge. Check mle_retvals\n",
      "  warnings.warn(\"Maximum Likelihood optimization failed to \"\n",
      "C:\\Users\\rutur\\anaconda3\\lib\\site-packages\\statsmodels\\base\\model.py:566: ConvergenceWarning: Maximum Likelihood optimization failed to converge. Check mle_retvals\n",
      "  warnings.warn(\"Maximum Likelihood optimization failed to \"\n",
      "C:\\Users\\rutur\\anaconda3\\lib\\site-packages\\statsmodels\\base\\model.py:566: ConvergenceWarning: Maximum Likelihood optimization failed to converge. Check mle_retvals\n",
      "  warnings.warn(\"Maximum Likelihood optimization failed to \"\n",
      "C:\\Users\\rutur\\anaconda3\\lib\\site-packages\\statsmodels\\base\\model.py:566: ConvergenceWarning: Maximum Likelihood optimization failed to converge. Check mle_retvals\n",
      "  warnings.warn(\"Maximum Likelihood optimization failed to \"\n",
      "C:\\Users\\rutur\\anaconda3\\lib\\site-packages\\statsmodels\\base\\model.py:566: ConvergenceWarning: Maximum Likelihood optimization failed to converge. Check mle_retvals\n",
      "  warnings.warn(\"Maximum Likelihood optimization failed to \"\n",
      "C:\\Users\\rutur\\anaconda3\\lib\\site-packages\\statsmodels\\base\\model.py:566: ConvergenceWarning: Maximum Likelihood optimization failed to converge. Check mle_retvals\n",
      "  warnings.warn(\"Maximum Likelihood optimization failed to \"\n",
      "C:\\Users\\rutur\\anaconda3\\lib\\site-packages\\statsmodels\\base\\model.py:566: ConvergenceWarning: Maximum Likelihood optimization failed to converge. Check mle_retvals\n",
      "  warnings.warn(\"Maximum Likelihood optimization failed to \"\n",
      "C:\\Users\\rutur\\anaconda3\\lib\\site-packages\\statsmodels\\base\\model.py:566: ConvergenceWarning: Maximum Likelihood optimization failed to converge. Check mle_retvals\n",
      "  warnings.warn(\"Maximum Likelihood optimization failed to \"\n",
      "C:\\Users\\rutur\\anaconda3\\lib\\site-packages\\statsmodels\\base\\model.py:566: ConvergenceWarning: Maximum Likelihood optimization failed to converge. Check mle_retvals\n",
      "  warnings.warn(\"Maximum Likelihood optimization failed to \"\n",
      "C:\\Users\\rutur\\anaconda3\\lib\\site-packages\\statsmodels\\base\\model.py:566: ConvergenceWarning: Maximum Likelihood optimization failed to converge. Check mle_retvals\n",
      "  warnings.warn(\"Maximum Likelihood optimization failed to \"\n",
      "C:\\Users\\rutur\\anaconda3\\lib\\site-packages\\statsmodels\\base\\model.py:566: ConvergenceWarning: Maximum Likelihood optimization failed to converge. Check mle_retvals\n",
      "  warnings.warn(\"Maximum Likelihood optimization failed to \"\n",
      "C:\\Users\\rutur\\anaconda3\\lib\\site-packages\\statsmodels\\base\\model.py:566: ConvergenceWarning: Maximum Likelihood optimization failed to converge. Check mle_retvals\n",
      "  warnings.warn(\"Maximum Likelihood optimization failed to \"\n",
      "C:\\Users\\rutur\\anaconda3\\lib\\site-packages\\statsmodels\\base\\model.py:566: ConvergenceWarning: Maximum Likelihood optimization failed to converge. Check mle_retvals\n",
      "  warnings.warn(\"Maximum Likelihood optimization failed to \"\n",
      "C:\\Users\\rutur\\anaconda3\\lib\\site-packages\\statsmodels\\base\\model.py:566: ConvergenceWarning: Maximum Likelihood optimization failed to converge. Check mle_retvals\n",
      "  warnings.warn(\"Maximum Likelihood optimization failed to \"\n",
      "C:\\Users\\rutur\\anaconda3\\lib\\site-packages\\statsmodels\\base\\model.py:566: ConvergenceWarning: Maximum Likelihood optimization failed to converge. Check mle_retvals\n",
      "  warnings.warn(\"Maximum Likelihood optimization failed to \"\n",
      "C:\\Users\\rutur\\anaconda3\\lib\\site-packages\\statsmodels\\base\\model.py:566: ConvergenceWarning: Maximum Likelihood optimization failed to converge. Check mle_retvals\n",
      "  warnings.warn(\"Maximum Likelihood optimization failed to \"\n",
      "C:\\Users\\rutur\\anaconda3\\lib\\site-packages\\statsmodels\\base\\model.py:566: ConvergenceWarning: Maximum Likelihood optimization failed to converge. Check mle_retvals\n",
      "  warnings.warn(\"Maximum Likelihood optimization failed to \"\n",
      "C:\\Users\\rutur\\anaconda3\\lib\\site-packages\\statsmodels\\base\\model.py:566: ConvergenceWarning: Maximum Likelihood optimization failed to converge. Check mle_retvals\n",
      "  warnings.warn(\"Maximum Likelihood optimization failed to \"\n",
      "C:\\Users\\rutur\\anaconda3\\lib\\site-packages\\statsmodels\\base\\model.py:566: ConvergenceWarning: Maximum Likelihood optimization failed to converge. Check mle_retvals\n",
      "  warnings.warn(\"Maximum Likelihood optimization failed to \"\n",
      "C:\\Users\\rutur\\anaconda3\\lib\\site-packages\\statsmodels\\base\\model.py:566: ConvergenceWarning: Maximum Likelihood optimization failed to converge. Check mle_retvals\n",
      "  warnings.warn(\"Maximum Likelihood optimization failed to \"\n",
      "C:\\Users\\rutur\\anaconda3\\lib\\site-packages\\statsmodels\\base\\model.py:566: ConvergenceWarning: Maximum Likelihood optimization failed to converge. Check mle_retvals\n",
      "  warnings.warn(\"Maximum Likelihood optimization failed to \"\n",
      "C:\\Users\\rutur\\anaconda3\\lib\\site-packages\\statsmodels\\base\\model.py:566: ConvergenceWarning: Maximum Likelihood optimization failed to converge. Check mle_retvals\n",
      "  warnings.warn(\"Maximum Likelihood optimization failed to \"\n",
      "C:\\Users\\rutur\\anaconda3\\lib\\site-packages\\statsmodels\\base\\model.py:566: ConvergenceWarning: Maximum Likelihood optimization failed to converge. Check mle_retvals\n",
      "  warnings.warn(\"Maximum Likelihood optimization failed to \"\n",
      "C:\\Users\\rutur\\anaconda3\\lib\\site-packages\\statsmodels\\base\\model.py:566: ConvergenceWarning: Maximum Likelihood optimization failed to converge. Check mle_retvals\n",
      "  warnings.warn(\"Maximum Likelihood optimization failed to \"\n",
      "C:\\Users\\rutur\\anaconda3\\lib\\site-packages\\statsmodels\\base\\model.py:566: ConvergenceWarning: Maximum Likelihood optimization failed to converge. Check mle_retvals\n",
      "  warnings.warn(\"Maximum Likelihood optimization failed to \"\n",
      "C:\\Users\\rutur\\anaconda3\\lib\\site-packages\\statsmodels\\base\\model.py:566: ConvergenceWarning: Maximum Likelihood optimization failed to converge. Check mle_retvals\n",
      "  warnings.warn(\"Maximum Likelihood optimization failed to \"\n",
      "C:\\Users\\rutur\\anaconda3\\lib\\site-packages\\statsmodels\\base\\model.py:566: ConvergenceWarning: Maximum Likelihood optimization failed to converge. Check mle_retvals\n",
      "  warnings.warn(\"Maximum Likelihood optimization failed to \"\n",
      "C:\\Users\\rutur\\anaconda3\\lib\\site-packages\\statsmodels\\base\\model.py:566: ConvergenceWarning: Maximum Likelihood optimization failed to converge. Check mle_retvals\n",
      "  warnings.warn(\"Maximum Likelihood optimization failed to \"\n",
      "C:\\Users\\rutur\\anaconda3\\lib\\site-packages\\statsmodels\\base\\model.py:566: ConvergenceWarning: Maximum Likelihood optimization failed to converge. Check mle_retvals\n",
      "  warnings.warn(\"Maximum Likelihood optimization failed to \"\n",
      "C:\\Users\\rutur\\anaconda3\\lib\\site-packages\\statsmodels\\base\\model.py:566: ConvergenceWarning: Maximum Likelihood optimization failed to converge. Check mle_retvals\n",
      "  warnings.warn(\"Maximum Likelihood optimization failed to \"\n",
      "C:\\Users\\rutur\\anaconda3\\lib\\site-packages\\statsmodels\\base\\model.py:566: ConvergenceWarning: Maximum Likelihood optimization failed to converge. Check mle_retvals\n",
      "  warnings.warn(\"Maximum Likelihood optimization failed to \"\n",
      "C:\\Users\\rutur\\anaconda3\\lib\\site-packages\\statsmodels\\base\\model.py:566: ConvergenceWarning: Maximum Likelihood optimization failed to converge. Check mle_retvals\n",
      "  warnings.warn(\"Maximum Likelihood optimization failed to \"\n",
      "C:\\Users\\rutur\\anaconda3\\lib\\site-packages\\statsmodels\\base\\model.py:566: ConvergenceWarning: Maximum Likelihood optimization failed to converge. Check mle_retvals\n",
      "  warnings.warn(\"Maximum Likelihood optimization failed to \"\n",
      "C:\\Users\\rutur\\anaconda3\\lib\\site-packages\\statsmodels\\base\\model.py:566: ConvergenceWarning: Maximum Likelihood optimization failed to converge. Check mle_retvals\n",
      "  warnings.warn(\"Maximum Likelihood optimization failed to \"\n",
      "C:\\Users\\rutur\\anaconda3\\lib\\site-packages\\statsmodels\\base\\model.py:566: ConvergenceWarning: Maximum Likelihood optimization failed to converge. Check mle_retvals\n",
      "  warnings.warn(\"Maximum Likelihood optimization failed to \"\n",
      "C:\\Users\\rutur\\anaconda3\\lib\\site-packages\\statsmodels\\base\\model.py:566: ConvergenceWarning: Maximum Likelihood optimization failed to converge. Check mle_retvals\n",
      "  warnings.warn(\"Maximum Likelihood optimization failed to \"\n",
      "C:\\Users\\rutur\\anaconda3\\lib\\site-packages\\statsmodels\\base\\model.py:566: ConvergenceWarning: Maximum Likelihood optimization failed to converge. Check mle_retvals\n",
      "  warnings.warn(\"Maximum Likelihood optimization failed to \"\n",
      "C:\\Users\\rutur\\anaconda3\\lib\\site-packages\\statsmodels\\base\\model.py:566: ConvergenceWarning: Maximum Likelihood optimization failed to converge. Check mle_retvals\n",
      "  warnings.warn(\"Maximum Likelihood optimization failed to \"\n"
     ]
    }
   ],
   "source": [
    "for i in pqd_combination:\n",
    "    A_model = ARIMA(ts_train,order= i).fit()\n",
    "    predict = A_model.predict(len(ts_train),len(ts)-1)\n",
    "    e = np.sqrt(mean_squared_error(ts_test,predict))\n",
    "    pqd.append(i)\n",
    "    error.append(e)"
   ]
  },
  {
   "cell_type": "code",
   "execution_count": 18,
   "id": "496ef678",
   "metadata": {
    "execution": {
     "iopub.execute_input": "2022-07-15T15:24:51.625950Z",
     "iopub.status.busy": "2022-07-15T15:24:51.625536Z",
     "iopub.status.idle": "2022-07-15T15:24:51.634016Z",
     "shell.execute_reply": "2022-07-15T15:24:51.632537Z"
    },
    "papermill": {
     "duration": 0.059159,
     "end_time": "2022-07-15T15:24:51.637005",
     "exception": false,
     "start_time": "2022-07-15T15:24:51.577846",
     "status": "completed"
    },
    "tags": []
   },
   "outputs": [
    {
     "name": "stdout",
     "output_type": "stream",
     "text": [
      "48.483828855883274  =>  (7, 1, 1)\n"
     ]
    }
   ],
   "source": [
    "min = error[0]\n",
    "index = 0\n",
    "for i in range(1,len(error)-1):\n",
    "    if(min > error[i]):\n",
    "        min = error[i]\n",
    "        index = i\n",
    "        \n",
    "print(error[index],' => ',pqd[index])"
   ]
  },
  {
   "cell_type": "code",
   "execution_count": 19,
   "id": "40f761f2",
   "metadata": {
    "execution": {
     "iopub.execute_input": "2022-07-15T15:24:51.692821Z",
     "iopub.status.busy": "2022-07-15T15:24:51.691945Z",
     "iopub.status.idle": "2022-07-15T15:24:52.146100Z",
     "shell.execute_reply": "2022-07-15T15:24:52.144483Z"
    },
    "papermill": {
     "duration": 0.490286,
     "end_time": "2022-07-15T15:24:52.153677",
     "exception": false,
     "start_time": "2022-07-15T15:24:51.663391",
     "status": "completed"
    },
    "tags": []
   },
   "outputs": [
    {
     "name": "stdout",
     "output_type": "stream",
     "text": [
      "                               SARIMAX Results                                \n",
      "==============================================================================\n",
      "Dep. Variable:                    AQI   No. Observations:                   50\n",
      "Model:                 ARIMA(7, 1, 1)   Log Likelihood                -241.966\n",
      "Date:                Sat, 22 Apr 2023   AIC                            501.931\n",
      "Time:                        10:58:55   BIC                            518.957\n",
      "Sample:                    01-31-2015   HQIC                           508.391\n",
      "                         - 02-28-2019                                         \n",
      "Covariance Type:                  opg                                         \n",
      "==============================================================================\n",
      "                 coef    std err          z      P>|z|      [0.025      0.975]\n",
      "------------------------------------------------------------------------------\n",
      "ar.L1          0.7066      0.217      3.257      0.001       0.281       1.132\n",
      "ar.L2         -0.2553      0.247     -1.036      0.300      -0.739       0.228\n",
      "ar.L3         -0.1310      0.188     -0.697      0.486      -0.500       0.238\n",
      "ar.L4         -0.4079      0.174     -2.345      0.019      -0.749      -0.067\n",
      "ar.L5          0.1395      0.262      0.532      0.595      -0.375       0.654\n",
      "ar.L6          0.0584      0.210      0.278      0.781      -0.353       0.470\n",
      "ar.L7         -0.4805      0.163     -2.948      0.003      -0.800      -0.161\n",
      "ma.L1         -0.7496      0.158     -4.737      0.000      -1.060      -0.439\n",
      "sigma2      1028.7477    252.986      4.066      0.000     532.904    1524.591\n",
      "===================================================================================\n",
      "Ljung-Box (L1) (Q):                   1.47   Jarque-Bera (JB):                 0.50\n",
      "Prob(Q):                              0.22   Prob(JB):                         0.78\n",
      "Heteroskedasticity (H):               0.93   Skew:                            -0.20\n",
      "Prob(H) (two-sided):                  0.89   Kurtosis:                         2.72\n",
      "===================================================================================\n",
      "\n",
      "Warnings:\n",
      "[1] Covariance matrix calculated using the outer product of gradients (complex-step).\n"
     ]
    }
   ],
   "source": [
    "model_ts = ARIMA(ts_train, order=pqd[index])\n",
    "model_ts_fit = model_ts.fit()\n",
    "print(model_ts_fit.summary())"
   ]
  },
  {
   "cell_type": "code",
   "execution_count": 20,
   "id": "c7686e34",
   "metadata": {
    "execution": {
     "iopub.execute_input": "2022-07-15T15:24:52.241496Z",
     "iopub.status.busy": "2022-07-15T15:24:52.241070Z",
     "iopub.status.idle": "2022-07-15T15:24:52.250792Z",
     "shell.execute_reply": "2022-07-15T15:24:52.249598Z"
    },
    "papermill": {
     "duration": 0.050316,
     "end_time": "2022-07-15T15:24:52.253217",
     "exception": false,
     "start_time": "2022-07-15T15:24:52.202901",
     "status": "completed"
    },
    "tags": []
   },
   "outputs": [],
   "source": [
    "arima_predict = model_ts_fit.predict(start = len(ts_train),end = len(ts))"
   ]
  },
  {
   "cell_type": "code",
   "execution_count": 21,
   "id": "1c092ca3",
   "metadata": {
    "execution": {
     "iopub.execute_input": "2022-07-15T15:24:52.308401Z",
     "iopub.status.busy": "2022-07-15T15:24:52.307994Z",
     "iopub.status.idle": "2022-07-15T15:24:52.669361Z",
     "shell.execute_reply": "2022-07-15T15:24:52.668143Z"
    },
    "papermill": {
     "duration": 0.391853,
     "end_time": "2022-07-15T15:24:52.672170",
     "exception": false,
     "start_time": "2022-07-15T15:24:52.280317",
     "status": "completed"
    },
    "tags": []
   },
   "outputs": [
    {
     "data": {
      "image/png": "[encoded data removed]",
      "text/plain": [
       "<Figure size 1440x720 with 1 Axes>"
      ]
     },
     "metadata": {
      "needs_background": "light"
     },
     "output_type": "display_data"
    }
   ],
   "source": [
    "plt.figure(figsize = (20,10))\n",
    "ts_test.plot(label = \"Test\")\n",
    "ts_train.plot(label = \"Train\")\n",
    "predict.plot(label = 'Predict')\n",
    "plt.legend()\n",
    "plt.show()"
   ]
  },
  {
   "cell_type": "markdown",
   "id": "99ffe388",
   "metadata": {
    "papermill": {
     "duration": 0.026837,
     "end_time": "2022-07-15T15:24:52.726437",
     "exception": false,
     "start_time": "2022-07-15T15:24:52.699600",
     "status": "completed"
    },
    "tags": []
   },
   "source": [
    "# ------------------------------- SARIM -------------------------------"
   ]
  },
  {
   "cell_type": "code",
   "execution_count": 22,
   "id": "12eb04f5",
   "metadata": {
    "execution": {
     "iopub.execute_input": "2022-07-15T15:24:52.783701Z",
     "iopub.status.busy": "2022-07-15T15:24:52.782627Z",
     "iopub.status.idle": "2022-07-15T15:24:52.803198Z",
     "shell.execute_reply": "2022-07-15T15:24:52.801553Z"
    },
    "papermill": {
     "duration": 0.052176,
     "end_time": "2022-07-15T15:24:52.805945",
     "exception": false,
     "start_time": "2022-07-15T15:24:52.753769",
     "status": "completed"
    },
    "tags": []
   },
   "outputs": [
    {
     "name": "stdout",
     "output_type": "stream",
     "text": [
      "Results of Dickey-Fuller Test:\n",
      "Test Statistic                 -1.224505\n",
      "p-value                         0.662967\n",
      "#Lags Used                     10.000000\n",
      "Number of Observations Used    56.000000\n",
      "Critical Value (1%)            -3.552928\n",
      "Critical Value (5%)            -2.914731\n",
      "Critical Value (10%)           -2.595137\n",
      "dtype: float64\n"
     ]
    }
   ],
   "source": [
    "print ('Results of Dickey-Fuller Test:')\n",
    "dftest = adfuller(ts, autolag='AIC')\n",
    "dfoutput = pd.Series(dftest[0:4], index=['Test Statistic','p-value','#Lags Used','Number of Observations Used'])\n",
    "for key,value in dftest[4].items():\n",
    "    dfoutput['Critical Value (%s)'%key] = value\n",
    "print (dfoutput )"
   ]
  },
  {
   "cell_type": "markdown",
   "id": "8af9001a",
   "metadata": {
    "papermill": {
     "duration": 0.02771,
     "end_time": "2022-07-15T15:24:52.862274",
     "exception": false,
     "start_time": "2022-07-15T15:24:52.834564",
     "status": "completed"
    },
    "tags": []
   },
   "source": [
    "*****This time series is not stationary. Because P > 0.05 .So we want to take first differntioal for series*****"
   ]
  },
  {
   "cell_type": "code",
   "execution_count": 23,
   "id": "1bc506df",
   "metadata": {
    "execution": {
     "iopub.execute_input": "2022-07-15T15:24:52.920164Z",
     "iopub.status.busy": "2022-07-15T15:24:52.919189Z",
     "iopub.status.idle": "2022-07-15T15:24:52.925918Z",
     "shell.execute_reply": "2022-07-15T15:24:52.924922Z"
    },
    "papermill": {
     "duration": 0.037816,
     "end_time": "2022-07-15T15:24:52.928274",
     "exception": false,
     "start_time": "2022-07-15T15:24:52.890458",
     "status": "completed"
    },
    "tags": []
   },
   "outputs": [],
   "source": [
    "df1_ts = ts - ts.shift(1)"
   ]
  },
  {
   "cell_type": "code",
   "execution_count": 24,
   "id": "8d8a52b7",
   "metadata": {
    "execution": {
     "iopub.execute_input": "2022-07-15T15:24:52.988197Z",
     "iopub.status.busy": "2022-07-15T15:24:52.987026Z",
     "iopub.status.idle": "2022-07-15T15:24:52.992237Z",
     "shell.execute_reply": "2022-07-15T15:24:52.991494Z"
    },
    "papermill": {
     "duration": 0.037553,
     "end_time": "2022-07-15T15:24:52.994537",
     "exception": false,
     "start_time": "2022-07-15T15:24:52.956984",
     "status": "completed"
    },
    "tags": []
   },
   "outputs": [],
   "source": [
    "df1_ts=df1_ts.dropna()"
   ]
  },
  {
   "cell_type": "code",
   "execution_count": 25,
   "id": "75179332",
   "metadata": {
    "execution": {
     "iopub.execute_input": "2022-07-15T15:24:53.054161Z",
     "iopub.status.busy": "2022-07-15T15:24:53.053453Z",
     "iopub.status.idle": "2022-07-15T15:24:53.070902Z",
     "shell.execute_reply": "2022-07-15T15:24:53.069123Z"
    },
    "papermill": {
     "duration": 0.051481,
     "end_time": "2022-07-15T15:24:53.074658",
     "exception": false,
     "start_time": "2022-07-15T15:24:53.023177",
     "status": "completed"
    },
    "tags": []
   },
   "outputs": [
    {
     "name": "stdout",
     "output_type": "stream",
     "text": [
      "Results of Dickey-Fuller Test:\n",
      "Test Statistic                -7.389944e+00\n",
      "p-value                        8.050075e-11\n",
      "#Lags Used                     9.000000e+00\n",
      "Number of Observations Used    5.600000e+01\n",
      "Critical Value (1%)           -3.552928e+00\n",
      "Critical Value (5%)           -2.914731e+00\n",
      "Critical Value (10%)          -2.595137e+00\n",
      "dtype: float64\n"
     ]
    }
   ],
   "source": [
    "print ('Results of Dickey-Fuller Test:')\n",
    "dftest = adfuller(df1_ts, autolag='AIC')\n",
    "dfoutput = pd.Series(dftest[0:4], index=['Test Statistic','p-value','#Lags Used','Number of Observations Used'])\n",
    "for key,value in dftest[4].items():\n",
    "    dfoutput['Critical Value (%s)'%key] = value\n",
    "print (dfoutput )"
   ]
  },
  {
   "cell_type": "code",
   "execution_count": 26,
   "id": "e12e9614",
   "metadata": {
    "execution": {
     "iopub.execute_input": "2022-07-15T15:24:53.133687Z",
     "iopub.status.busy": "2022-07-15T15:24:53.133152Z",
     "iopub.status.idle": "2022-07-15T15:24:53.411231Z",
     "shell.execute_reply": "2022-07-15T15:24:53.409769Z"
    },
    "papermill": {
     "duration": 0.310505,
     "end_time": "2022-07-15T15:24:53.413859",
     "exception": false,
     "start_time": "2022-07-15T15:24:53.103354",
     "status": "completed"
    },
    "tags": []
   },
   "outputs": [
    {
     "data": {
      "image/png": "[encoded data removed]",
      "text/plain": [
       "<Figure size 1440x720 with 1 Axes>"
      ]
     },
     "metadata": {
      "needs_background": "light"
     },
     "output_type": "display_data"
    }
   ],
   "source": [
    "plt.figure(figsize = (20,10))\n",
    "df1_ts.plot()\n",
    "plt.show()"
   ]
  },
  {
   "cell_type": "code",
   "execution_count": 27,
   "id": "ea244717",
   "metadata": {
    "execution": {
     "iopub.execute_input": "2022-07-15T15:24:53.474651Z",
     "iopub.status.busy": "2022-07-15T15:24:53.474219Z",
     "iopub.status.idle": "2022-07-15T15:24:53.480318Z",
     "shell.execute_reply": "2022-07-15T15:24:53.478895Z"
    },
    "papermill": {
     "duration": 0.039775,
     "end_time": "2022-07-15T15:24:53.482901",
     "exception": false,
     "start_time": "2022-07-15T15:24:53.443126",
     "status": "completed"
    },
    "tags": []
   },
   "outputs": [],
   "source": [
    "df1_ts_train = df1_ts[:50]\n",
    "df1_ts_test = df1_ts[50:]"
   ]
  },
  {
   "cell_type": "code",
   "execution_count": 28,
   "id": "e5354594",
   "metadata": {
    "execution": {
     "iopub.execute_input": "2022-07-15T15:24:53.542364Z",
     "iopub.status.busy": "2022-07-15T15:24:53.541933Z",
     "iopub.status.idle": "2022-07-15T15:24:53.547285Z",
     "shell.execute_reply": "2022-07-15T15:24:53.545865Z"
    },
    "papermill": {
     "duration": 0.038184,
     "end_time": "2022-07-15T15:24:53.549838",
     "exception": false,
     "start_time": "2022-07-15T15:24:53.511654",
     "status": "completed"
    },
    "tags": []
   },
   "outputs": [],
   "source": [
    "df_pdq = []\n",
    "df_error = []"
   ]
  },
  {
   "cell_type": "code",
   "execution_count": 29,
   "id": "f90ed824",
   "metadata": {
    "execution": {
     "iopub.execute_input": "2022-07-15T15:24:53.609533Z",
     "iopub.status.busy": "2022-07-15T15:24:53.609054Z",
     "iopub.status.idle": "2022-07-15T15:26:02.064180Z",
     "shell.execute_reply": "2022-07-15T15:26:02.062734Z"
    },
    "papermill": {
     "duration": 68.48995,
     "end_time": "2022-07-15T15:26:02.068585",
     "exception": false,
     "start_time": "2022-07-15T15:24:53.578635",
     "status": "completed"
    },
    "tags": []
   },
   "outputs": [
    {
     "name": "stderr",
     "output_type": "stream",
     "text": [
      "C:\\Users\\rutur\\anaconda3\\lib\\site-packages\\statsmodels\\base\\model.py:566: ConvergenceWarning: Maximum Likelihood optimization failed to converge. Check mle_retvals\n",
      "  warnings.warn(\"Maximum Likelihood optimization failed to \"\n",
      "C:\\Users\\rutur\\anaconda3\\lib\\site-packages\\statsmodels\\base\\model.py:566: ConvergenceWarning: Maximum Likelihood optimization failed to converge. Check mle_retvals\n",
      "  warnings.warn(\"Maximum Likelihood optimization failed to \"\n",
      "C:\\Users\\rutur\\anaconda3\\lib\\site-packages\\statsmodels\\base\\model.py:566: ConvergenceWarning: Maximum Likelihood optimization failed to converge. Check mle_retvals\n",
      "  warnings.warn(\"Maximum Likelihood optimization failed to \"\n",
      "C:\\Users\\rutur\\anaconda3\\lib\\site-packages\\statsmodels\\base\\model.py:566: ConvergenceWarning: Maximum Likelihood optimization failed to converge. Check mle_retvals\n",
      "  warnings.warn(\"Maximum Likelihood optimization failed to \"\n",
      "C:\\Users\\rutur\\anaconda3\\lib\\site-packages\\statsmodels\\base\\model.py:566: ConvergenceWarning: Maximum Likelihood optimization failed to converge. Check mle_retvals\n",
      "  warnings.warn(\"Maximum Likelihood optimization failed to \"\n",
      "C:\\Users\\rutur\\anaconda3\\lib\\site-packages\\statsmodels\\base\\model.py:566: ConvergenceWarning: Maximum Likelihood optimization failed to converge. Check mle_retvals\n",
      "  warnings.warn(\"Maximum Likelihood optimization failed to \"\n",
      "C:\\Users\\rutur\\anaconda3\\lib\\site-packages\\statsmodels\\base\\model.py:566: ConvergenceWarning: Maximum Likelihood optimization failed to converge. Check mle_retvals\n",
      "  warnings.warn(\"Maximum Likelihood optimization failed to \"\n",
      "C:\\Users\\rutur\\anaconda3\\lib\\site-packages\\statsmodels\\base\\model.py:566: ConvergenceWarning: Maximum Likelihood optimization failed to converge. Check mle_retvals\n",
      "  warnings.warn(\"Maximum Likelihood optimization failed to \"\n",
      "C:\\Users\\rutur\\anaconda3\\lib\\site-packages\\statsmodels\\base\\model.py:566: ConvergenceWarning: Maximum Likelihood optimization failed to converge. Check mle_retvals\n",
      "  warnings.warn(\"Maximum Likelihood optimization failed to \"\n",
      "C:\\Users\\rutur\\anaconda3\\lib\\site-packages\\statsmodels\\base\\model.py:566: ConvergenceWarning: Maximum Likelihood optimization failed to converge. Check mle_retvals\n",
      "  warnings.warn(\"Maximum Likelihood optimization failed to \"\n",
      "C:\\Users\\rutur\\anaconda3\\lib\\site-packages\\statsmodels\\base\\model.py:566: ConvergenceWarning: Maximum Likelihood optimization failed to converge. Check mle_retvals\n",
      "  warnings.warn(\"Maximum Likelihood optimization failed to \"\n",
      "C:\\Users\\rutur\\anaconda3\\lib\\site-packages\\statsmodels\\base\\model.py:566: ConvergenceWarning: Maximum Likelihood optimization failed to converge. Check mle_retvals\n",
      "  warnings.warn(\"Maximum Likelihood optimization failed to \"\n",
      "C:\\Users\\rutur\\anaconda3\\lib\\site-packages\\statsmodels\\base\\model.py:566: ConvergenceWarning: Maximum Likelihood optimization failed to converge. Check mle_retvals\n",
      "  warnings.warn(\"Maximum Likelihood optimization failed to \"\n",
      "C:\\Users\\rutur\\anaconda3\\lib\\site-packages\\statsmodels\\base\\model.py:566: ConvergenceWarning: Maximum Likelihood optimization failed to converge. Check mle_retvals\n",
      "  warnings.warn(\"Maximum Likelihood optimization failed to \"\n",
      "C:\\Users\\rutur\\anaconda3\\lib\\site-packages\\statsmodels\\base\\model.py:566: ConvergenceWarning: Maximum Likelihood optimization failed to converge. Check mle_retvals\n",
      "  warnings.warn(\"Maximum Likelihood optimization failed to \"\n",
      "C:\\Users\\rutur\\anaconda3\\lib\\site-packages\\statsmodels\\base\\model.py:566: ConvergenceWarning: Maximum Likelihood optimization failed to converge. Check mle_retvals\n",
      "  warnings.warn(\"Maximum Likelihood optimization failed to \"\n",
      "C:\\Users\\rutur\\anaconda3\\lib\\site-packages\\statsmodels\\base\\model.py:566: ConvergenceWarning: Maximum Likelihood optimization failed to converge. Check mle_retvals\n",
      "  warnings.warn(\"Maximum Likelihood optimization failed to \"\n",
      "C:\\Users\\rutur\\anaconda3\\lib\\site-packages\\statsmodels\\base\\model.py:566: ConvergenceWarning: Maximum Likelihood optimization failed to converge. Check mle_retvals\n",
      "  warnings.warn(\"Maximum Likelihood optimization failed to \"\n",
      "C:\\Users\\rutur\\anaconda3\\lib\\site-packages\\statsmodels\\base\\model.py:566: ConvergenceWarning: Maximum Likelihood optimization failed to converge. Check mle_retvals\n",
      "  warnings.warn(\"Maximum Likelihood optimization failed to \"\n",
      "C:\\Users\\rutur\\anaconda3\\lib\\site-packages\\statsmodels\\base\\model.py:566: ConvergenceWarning: Maximum Likelihood optimization failed to converge. Check mle_retvals\n",
      "  warnings.warn(\"Maximum Likelihood optimization failed to \"\n",
      "C:\\Users\\rutur\\anaconda3\\lib\\site-packages\\statsmodels\\base\\model.py:566: ConvergenceWarning: Maximum Likelihood optimization failed to converge. Check mle_retvals\n",
      "  warnings.warn(\"Maximum Likelihood optimization failed to \"\n",
      "C:\\Users\\rutur\\anaconda3\\lib\\site-packages\\statsmodels\\base\\model.py:566: ConvergenceWarning: Maximum Likelihood optimization failed to converge. Check mle_retvals\n",
      "  warnings.warn(\"Maximum Likelihood optimization failed to \"\n",
      "C:\\Users\\rutur\\anaconda3\\lib\\site-packages\\statsmodels\\base\\model.py:566: ConvergenceWarning: Maximum Likelihood optimization failed to converge. Check mle_retvals\n",
      "  warnings.warn(\"Maximum Likelihood optimization failed to \"\n",
      "C:\\Users\\rutur\\anaconda3\\lib\\site-packages\\statsmodels\\base\\model.py:566: ConvergenceWarning: Maximum Likelihood optimization failed to converge. Check mle_retvals\n",
      "  warnings.warn(\"Maximum Likelihood optimization failed to \"\n",
      "C:\\Users\\rutur\\anaconda3\\lib\\site-packages\\statsmodels\\base\\model.py:566: ConvergenceWarning: Maximum Likelihood optimization failed to converge. Check mle_retvals\n",
      "  warnings.warn(\"Maximum Likelihood optimization failed to \"\n",
      "C:\\Users\\rutur\\anaconda3\\lib\\site-packages\\statsmodels\\base\\model.py:566: ConvergenceWarning: Maximum Likelihood optimization failed to converge. Check mle_retvals\n",
      "  warnings.warn(\"Maximum Likelihood optimization failed to \"\n",
      "C:\\Users\\rutur\\anaconda3\\lib\\site-packages\\statsmodels\\base\\model.py:566: ConvergenceWarning: Maximum Likelihood optimization failed to converge. Check mle_retvals\n",
      "  warnings.warn(\"Maximum Likelihood optimization failed to \"\n",
      "C:\\Users\\rutur\\anaconda3\\lib\\site-packages\\statsmodels\\base\\model.py:566: ConvergenceWarning: Maximum Likelihood optimization failed to converge. Check mle_retvals\n",
      "  warnings.warn(\"Maximum Likelihood optimization failed to \"\n",
      "C:\\Users\\rutur\\anaconda3\\lib\\site-packages\\statsmodels\\base\\model.py:566: ConvergenceWarning: Maximum Likelihood optimization failed to converge. Check mle_retvals\n",
      "  warnings.warn(\"Maximum Likelihood optimization failed to \"\n",
      "C:\\Users\\rutur\\anaconda3\\lib\\site-packages\\statsmodels\\base\\model.py:566: ConvergenceWarning: Maximum Likelihood optimization failed to converge. Check mle_retvals\n",
      "  warnings.warn(\"Maximum Likelihood optimization failed to \"\n",
      "C:\\Users\\rutur\\anaconda3\\lib\\site-packages\\statsmodels\\base\\model.py:566: ConvergenceWarning: Maximum Likelihood optimization failed to converge. Check mle_retvals\n",
      "  warnings.warn(\"Maximum Likelihood optimization failed to \"\n",
      "C:\\Users\\rutur\\anaconda3\\lib\\site-packages\\statsmodels\\base\\model.py:566: ConvergenceWarning: Maximum Likelihood optimization failed to converge. Check mle_retvals\n",
      "  warnings.warn(\"Maximum Likelihood optimization failed to \"\n",
      "C:\\Users\\rutur\\anaconda3\\lib\\site-packages\\statsmodels\\base\\model.py:566: ConvergenceWarning: Maximum Likelihood optimization failed to converge. Check mle_retvals\n",
      "  warnings.warn(\"Maximum Likelihood optimization failed to \"\n",
      "C:\\Users\\rutur\\anaconda3\\lib\\site-packages\\statsmodels\\base\\model.py:566: ConvergenceWarning: Maximum Likelihood optimization failed to converge. Check mle_retvals\n",
      "  warnings.warn(\"Maximum Likelihood optimization failed to \"\n",
      "C:\\Users\\rutur\\anaconda3\\lib\\site-packages\\statsmodels\\base\\model.py:566: ConvergenceWarning: Maximum Likelihood optimization failed to converge. Check mle_retvals\n",
      "  warnings.warn(\"Maximum Likelihood optimization failed to \"\n",
      "C:\\Users\\rutur\\anaconda3\\lib\\site-packages\\statsmodels\\base\\model.py:566: ConvergenceWarning: Maximum Likelihood optimization failed to converge. Check mle_retvals\n",
      "  warnings.warn(\"Maximum Likelihood optimization failed to \"\n",
      "C:\\Users\\rutur\\anaconda3\\lib\\site-packages\\statsmodels\\base\\model.py:566: ConvergenceWarning: Maximum Likelihood optimization failed to converge. Check mle_retvals\n",
      "  warnings.warn(\"Maximum Likelihood optimization failed to \"\n",
      "C:\\Users\\rutur\\anaconda3\\lib\\site-packages\\statsmodels\\base\\model.py:566: ConvergenceWarning: Maximum Likelihood optimization failed to converge. Check mle_retvals\n",
      "  warnings.warn(\"Maximum Likelihood optimization failed to \"\n",
      "C:\\Users\\rutur\\anaconda3\\lib\\site-packages\\statsmodels\\base\\model.py:566: ConvergenceWarning: Maximum Likelihood optimization failed to converge. Check mle_retvals\n",
      "  warnings.warn(\"Maximum Likelihood optimization failed to \"\n",
      "C:\\Users\\rutur\\anaconda3\\lib\\site-packages\\statsmodels\\base\\model.py:566: ConvergenceWarning: Maximum Likelihood optimization failed to converge. Check mle_retvals\n",
      "  warnings.warn(\"Maximum Likelihood optimization failed to \"\n",
      "C:\\Users\\rutur\\anaconda3\\lib\\site-packages\\statsmodels\\base\\model.py:566: ConvergenceWarning: Maximum Likelihood optimization failed to converge. Check mle_retvals\n",
      "  warnings.warn(\"Maximum Likelihood optimization failed to \"\n",
      "C:\\Users\\rutur\\anaconda3\\lib\\site-packages\\statsmodels\\base\\model.py:566: ConvergenceWarning: Maximum Likelihood optimization failed to converge. Check mle_retvals\n",
      "  warnings.warn(\"Maximum Likelihood optimization failed to \"\n",
      "C:\\Users\\rutur\\anaconda3\\lib\\site-packages\\statsmodels\\base\\model.py:566: ConvergenceWarning: Maximum Likelihood optimization failed to converge. Check mle_retvals\n",
      "  warnings.warn(\"Maximum Likelihood optimization failed to \"\n",
      "C:\\Users\\rutur\\anaconda3\\lib\\site-packages\\statsmodels\\base\\model.py:566: ConvergenceWarning: Maximum Likelihood optimization failed to converge. Check mle_retvals\n",
      "  warnings.warn(\"Maximum Likelihood optimization failed to \"\n",
      "C:\\Users\\rutur\\anaconda3\\lib\\site-packages\\statsmodels\\base\\model.py:566: ConvergenceWarning: Maximum Likelihood optimization failed to converge. Check mle_retvals\n",
      "  warnings.warn(\"Maximum Likelihood optimization failed to \"\n",
      "C:\\Users\\rutur\\anaconda3\\lib\\site-packages\\statsmodels\\base\\model.py:566: ConvergenceWarning: Maximum Likelihood optimization failed to converge. Check mle_retvals\n",
      "  warnings.warn(\"Maximum Likelihood optimization failed to \"\n",
      "C:\\Users\\rutur\\anaconda3\\lib\\site-packages\\statsmodels\\base\\model.py:566: ConvergenceWarning: Maximum Likelihood optimization failed to converge. Check mle_retvals\n",
      "  warnings.warn(\"Maximum Likelihood optimization failed to \"\n",
      "C:\\Users\\rutur\\anaconda3\\lib\\site-packages\\statsmodels\\base\\model.py:566: ConvergenceWarning: Maximum Likelihood optimization failed to converge. Check mle_retvals\n",
      "  warnings.warn(\"Maximum Likelihood optimization failed to \"\n",
      "C:\\Users\\rutur\\anaconda3\\lib\\site-packages\\statsmodels\\base\\model.py:566: ConvergenceWarning: Maximum Likelihood optimization failed to converge. Check mle_retvals\n",
      "  warnings.warn(\"Maximum Likelihood optimization failed to \"\n",
      "C:\\Users\\rutur\\anaconda3\\lib\\site-packages\\statsmodels\\base\\model.py:566: ConvergenceWarning: Maximum Likelihood optimization failed to converge. Check mle_retvals\n",
      "  warnings.warn(\"Maximum Likelihood optimization failed to \"\n",
      "C:\\Users\\rutur\\anaconda3\\lib\\site-packages\\statsmodels\\base\\model.py:566: ConvergenceWarning: Maximum Likelihood optimization failed to converge. Check mle_retvals\n",
      "  warnings.warn(\"Maximum Likelihood optimization failed to \"\n",
      "C:\\Users\\rutur\\anaconda3\\lib\\site-packages\\statsmodels\\base\\model.py:566: ConvergenceWarning: Maximum Likelihood optimization failed to converge. Check mle_retvals\n",
      "  warnings.warn(\"Maximum Likelihood optimization failed to \"\n",
      "C:\\Users\\rutur\\anaconda3\\lib\\site-packages\\statsmodels\\base\\model.py:566: ConvergenceWarning: Maximum Likelihood optimization failed to converge. Check mle_retvals\n",
      "  warnings.warn(\"Maximum Likelihood optimization failed to \"\n",
      "C:\\Users\\rutur\\anaconda3\\lib\\site-packages\\statsmodels\\base\\model.py:566: ConvergenceWarning: Maximum Likelihood optimization failed to converge. Check mle_retvals\n",
      "  warnings.warn(\"Maximum Likelihood optimization failed to \"\n",
      "C:\\Users\\rutur\\anaconda3\\lib\\site-packages\\statsmodels\\base\\model.py:566: ConvergenceWarning: Maximum Likelihood optimization failed to converge. Check mle_retvals\n",
      "  warnings.warn(\"Maximum Likelihood optimization failed to \"\n",
      "C:\\Users\\rutur\\anaconda3\\lib\\site-packages\\statsmodels\\base\\model.py:566: ConvergenceWarning: Maximum Likelihood optimization failed to converge. Check mle_retvals\n",
      "  warnings.warn(\"Maximum Likelihood optimization failed to \"\n",
      "C:\\Users\\rutur\\anaconda3\\lib\\site-packages\\statsmodels\\base\\model.py:566: ConvergenceWarning: Maximum Likelihood optimization failed to converge. Check mle_retvals\n",
      "  warnings.warn(\"Maximum Likelihood optimization failed to \"\n",
      "C:\\Users\\rutur\\anaconda3\\lib\\site-packages\\statsmodels\\base\\model.py:566: ConvergenceWarning: Maximum Likelihood optimization failed to converge. Check mle_retvals\n",
      "  warnings.warn(\"Maximum Likelihood optimization failed to \"\n",
      "C:\\Users\\rutur\\anaconda3\\lib\\site-packages\\statsmodels\\base\\model.py:566: ConvergenceWarning: Maximum Likelihood optimization failed to converge. Check mle_retvals\n",
      "  warnings.warn(\"Maximum Likelihood optimization failed to \"\n",
      "C:\\Users\\rutur\\anaconda3\\lib\\site-packages\\statsmodels\\base\\model.py:566: ConvergenceWarning: Maximum Likelihood optimization failed to converge. Check mle_retvals\n",
      "  warnings.warn(\"Maximum Likelihood optimization failed to \"\n",
      "C:\\Users\\rutur\\anaconda3\\lib\\site-packages\\statsmodels\\base\\model.py:566: ConvergenceWarning: Maximum Likelihood optimization failed to converge. Check mle_retvals\n",
      "  warnings.warn(\"Maximum Likelihood optimization failed to \"\n",
      "C:\\Users\\rutur\\anaconda3\\lib\\site-packages\\statsmodels\\base\\model.py:566: ConvergenceWarning: Maximum Likelihood optimization failed to converge. Check mle_retvals\n",
      "  warnings.warn(\"Maximum Likelihood optimization failed to \"\n",
      "C:\\Users\\rutur\\anaconda3\\lib\\site-packages\\statsmodels\\base\\model.py:566: ConvergenceWarning: Maximum Likelihood optimization failed to converge. Check mle_retvals\n",
      "  warnings.warn(\"Maximum Likelihood optimization failed to \"\n",
      "C:\\Users\\rutur\\anaconda3\\lib\\site-packages\\statsmodels\\base\\model.py:566: ConvergenceWarning: Maximum Likelihood optimization failed to converge. Check mle_retvals\n",
      "  warnings.warn(\"Maximum Likelihood optimization failed to \"\n",
      "C:\\Users\\rutur\\anaconda3\\lib\\site-packages\\statsmodels\\base\\model.py:566: ConvergenceWarning: Maximum Likelihood optimization failed to converge. Check mle_retvals\n",
      "  warnings.warn(\"Maximum Likelihood optimization failed to \"\n",
      "C:\\Users\\rutur\\anaconda3\\lib\\site-packages\\statsmodels\\base\\model.py:566: ConvergenceWarning: Maximum Likelihood optimization failed to converge. Check mle_retvals\n",
      "  warnings.warn(\"Maximum Likelihood optimization failed to \"\n",
      "C:\\Users\\rutur\\anaconda3\\lib\\site-packages\\statsmodels\\base\\model.py:566: ConvergenceWarning: Maximum Likelihood optimization failed to converge. Check mle_retvals\n",
      "  warnings.warn(\"Maximum Likelihood optimization failed to \"\n",
      "C:\\Users\\rutur\\anaconda3\\lib\\site-packages\\statsmodels\\base\\model.py:566: ConvergenceWarning: Maximum Likelihood optimization failed to converge. Check mle_retvals\n",
      "  warnings.warn(\"Maximum Likelihood optimization failed to \"\n",
      "C:\\Users\\rutur\\anaconda3\\lib\\site-packages\\statsmodels\\base\\model.py:566: ConvergenceWarning: Maximum Likelihood optimization failed to converge. Check mle_retvals\n",
      "  warnings.warn(\"Maximum Likelihood optimization failed to \"\n",
      "C:\\Users\\rutur\\anaconda3\\lib\\site-packages\\statsmodels\\base\\model.py:566: ConvergenceWarning: Maximum Likelihood optimization failed to converge. Check mle_retvals\n",
      "  warnings.warn(\"Maximum Likelihood optimization failed to \"\n",
      "C:\\Users\\rutur\\anaconda3\\lib\\site-packages\\statsmodels\\base\\model.py:566: ConvergenceWarning: Maximum Likelihood optimization failed to converge. Check mle_retvals\n",
      "  warnings.warn(\"Maximum Likelihood optimization failed to \"\n",
      "C:\\Users\\rutur\\anaconda3\\lib\\site-packages\\statsmodels\\base\\model.py:566: ConvergenceWarning: Maximum Likelihood optimization failed to converge. Check mle_retvals\n",
      "  warnings.warn(\"Maximum Likelihood optimization failed to \"\n",
      "C:\\Users\\rutur\\anaconda3\\lib\\site-packages\\statsmodels\\base\\model.py:566: ConvergenceWarning: Maximum Likelihood optimization failed to converge. Check mle_retvals\n",
      "  warnings.warn(\"Maximum Likelihood optimization failed to \"\n",
      "C:\\Users\\rutur\\anaconda3\\lib\\site-packages\\statsmodels\\base\\model.py:566: ConvergenceWarning: Maximum Likelihood optimization failed to converge. Check mle_retvals\n",
      "  warnings.warn(\"Maximum Likelihood optimization failed to \"\n",
      "C:\\Users\\rutur\\anaconda3\\lib\\site-packages\\statsmodels\\base\\model.py:566: ConvergenceWarning: Maximum Likelihood optimization failed to converge. Check mle_retvals\n",
      "  warnings.warn(\"Maximum Likelihood optimization failed to \"\n",
      "C:\\Users\\rutur\\anaconda3\\lib\\site-packages\\statsmodels\\base\\model.py:566: ConvergenceWarning: Maximum Likelihood optimization failed to converge. Check mle_retvals\n",
      "  warnings.warn(\"Maximum Likelihood optimization failed to \"\n",
      "C:\\Users\\rutur\\anaconda3\\lib\\site-packages\\statsmodels\\base\\model.py:566: ConvergenceWarning: Maximum Likelihood optimization failed to converge. Check mle_retvals\n",
      "  warnings.warn(\"Maximum Likelihood optimization failed to \"\n",
      "C:\\Users\\rutur\\anaconda3\\lib\\site-packages\\statsmodels\\base\\model.py:566: ConvergenceWarning: Maximum Likelihood optimization failed to converge. Check mle_retvals\n",
      "  warnings.warn(\"Maximum Likelihood optimization failed to \"\n",
      "C:\\Users\\rutur\\anaconda3\\lib\\site-packages\\statsmodels\\base\\model.py:566: ConvergenceWarning: Maximum Likelihood optimization failed to converge. Check mle_retvals\n",
      "  warnings.warn(\"Maximum Likelihood optimization failed to \"\n",
      "C:\\Users\\rutur\\anaconda3\\lib\\site-packages\\statsmodels\\base\\model.py:566: ConvergenceWarning: Maximum Likelihood optimization failed to converge. Check mle_retvals\n",
      "  warnings.warn(\"Maximum Likelihood optimization failed to \"\n",
      "C:\\Users\\rutur\\anaconda3\\lib\\site-packages\\statsmodels\\base\\model.py:566: ConvergenceWarning: Maximum Likelihood optimization failed to converge. Check mle_retvals\n",
      "  warnings.warn(\"Maximum Likelihood optimization failed to \"\n",
      "C:\\Users\\rutur\\anaconda3\\lib\\site-packages\\statsmodels\\base\\model.py:566: ConvergenceWarning: Maximum Likelihood optimization failed to converge. Check mle_retvals\n",
      "  warnings.warn(\"Maximum Likelihood optimization failed to \"\n",
      "C:\\Users\\rutur\\anaconda3\\lib\\site-packages\\statsmodels\\base\\model.py:566: ConvergenceWarning: Maximum Likelihood optimization failed to converge. Check mle_retvals\n",
      "  warnings.warn(\"Maximum Likelihood optimization failed to \"\n",
      "C:\\Users\\rutur\\anaconda3\\lib\\site-packages\\statsmodels\\base\\model.py:566: ConvergenceWarning: Maximum Likelihood optimization failed to converge. Check mle_retvals\n",
      "  warnings.warn(\"Maximum Likelihood optimization failed to \"\n",
      "C:\\Users\\rutur\\anaconda3\\lib\\site-packages\\statsmodels\\base\\model.py:566: ConvergenceWarning: Maximum Likelihood optimization failed to converge. Check mle_retvals\n",
      "  warnings.warn(\"Maximum Likelihood optimization failed to \"\n"
     ]
    }
   ],
   "source": [
    "for i in pqd_combination:\n",
    "    A_model = ARIMA(df1_ts_train,order= i).fit()\n",
    "    predict = A_model.predict(len(df1_ts_train),len(df1_ts)-1)\n",
    "    e = np.sqrt(mean_squared_error(df1_ts_test,predict))\n",
    "    df_pdq.append(i)\n",
    "    df_error.append(e)"
   ]
  },
  {
   "cell_type": "code",
   "execution_count": 30,
   "id": "ab244799",
   "metadata": {
    "execution": {
     "iopub.execute_input": "2022-07-15T15:26:02.186689Z",
     "iopub.status.busy": "2022-07-15T15:26:02.185194Z",
     "iopub.status.idle": "2022-07-15T15:26:02.194506Z",
     "shell.execute_reply": "2022-07-15T15:26:02.192915Z"
    },
    "papermill": {
     "duration": 0.062347,
     "end_time": "2022-07-15T15:26:02.197388",
     "exception": false,
     "start_time": "2022-07-15T15:26:02.135041",
     "status": "completed"
    },
    "tags": []
   },
   "outputs": [
    {
     "name": "stdout",
     "output_type": "stream",
     "text": [
      "20.383889653711055  =>  (7, 0, 3)\n"
     ]
    }
   ],
   "source": [
    "min = df_error[0]\n",
    "index = 0\n",
    "for i in range(1,len(df_error)-1):\n",
    "    if(min > df_error[i]):\n",
    "        min = df_error[i]\n",
    "        index = i\n",
    "        \n",
    "print(df_error[index],' => ',df_pdq[index])"
   ]
  },
  {
   "cell_type": "code",
   "execution_count": 31,
   "id": "9321591d",
   "metadata": {
    "execution": {
     "iopub.execute_input": "2022-07-15T15:26:02.269740Z",
     "iopub.status.busy": "2022-07-15T15:26:02.269256Z",
     "iopub.status.idle": "2022-07-15T15:26:02.737756Z",
     "shell.execute_reply": "2022-07-15T15:26:02.736291Z"
    },
    "papermill": {
     "duration": 0.508563,
     "end_time": "2022-07-15T15:26:02.741077",
     "exception": false,
     "start_time": "2022-07-15T15:26:02.232514",
     "status": "completed"
    },
    "tags": []
   },
   "outputs": [],
   "source": [
    "import statsmodels.api as sm"
   ]
  },
  {
   "cell_type": "code",
   "execution_count": 32,
   "id": "4ba10633",
   "metadata": {
    "execution": {
     "iopub.execute_input": "2022-07-15T15:26:02.816261Z",
     "iopub.status.busy": "2022-07-15T15:26:02.815270Z",
     "iopub.status.idle": "2022-07-15T15:26:05.462694Z",
     "shell.execute_reply": "2022-07-15T15:26:05.461149Z"
    },
    "papermill": {
     "duration": 2.691777,
     "end_time": "2022-07-15T15:26:05.469342",
     "exception": false,
     "start_time": "2022-07-15T15:26:02.777565",
     "status": "completed"
    },
    "tags": []
   },
   "outputs": [
    {
     "name": "stdout",
     "output_type": "stream",
     "text": [
      "                                      SARIMAX Results                                       \n",
      "============================================================================================\n",
      "Dep. Variable:                                  AQI   No. Observations:                   50\n",
      "Model:             SARIMAX(7, 0, 3)x(1, 1, [1], 12)   Log Likelihood                -176.709\n",
      "Date:                              Sat, 22 Apr 2023   AIC                            379.418\n",
      "Time:                                      10:59:18   BIC                            400.706\n",
      "Sample:                                  02-28-2015   HQIC                           386.992\n",
      "                                       - 03-31-2019                                         \n",
      "Covariance Type:                                opg                                         \n",
      "==============================================================================\n",
      "                 coef    std err          z      P>|z|      [0.025      0.975]\n",
      "------------------------------------------------------------------------------\n",
      "ar.L1          0.0865      2.431      0.036      0.972      -4.678       4.851\n",
      "ar.L2         -0.9945      0.558     -1.783      0.075      -2.088       0.098\n",
      "ar.L3          0.0308      2.551      0.012      0.990      -4.969       5.030\n",
      "ar.L4         -0.3762      0.436     -0.863      0.388      -1.230       0.478\n",
      "ar.L5          0.1771      1.006      0.176      0.860      -1.795       2.150\n",
      "ar.L6          0.0807      0.312      0.259      0.796      -0.530       0.692\n",
      "ar.L7          0.2316      0.603      0.384      0.701      -0.950       1.413\n",
      "ma.L1         -0.4061      2.572     -0.158      0.875      -5.448       4.636\n",
      "ma.L2          0.9986      1.782      0.560      0.575      -2.494       4.491\n",
      "ma.L3         -0.1007      2.621     -0.038      0.969      -5.238       5.036\n",
      "ar.S.L12      -0.6231      0.492     -1.266      0.206      -1.588       0.342\n",
      "ma.S.L12      -0.0116      0.722     -0.016      0.987      -1.426       1.403\n",
      "sigma2       507.5536    525.951      0.965      0.335    -523.291    1538.398\n",
      "===================================================================================\n",
      "Ljung-Box (L1) (Q):                   0.02   Jarque-Bera (JB):                 2.47\n",
      "Prob(Q):                              0.88   Prob(JB):                         0.29\n",
      "Heteroskedasticity (H):               0.56   Skew:                            -0.58\n",
      "Prob(H) (two-sided):                  0.31   Kurtosis:                         3.48\n",
      "===================================================================================\n",
      "\n",
      "Warnings:\n",
      "[1] Covariance matrix calculated using the outer product of gradients (complex-step).\n"
     ]
    },
    {
     "name": "stderr",
     "output_type": "stream",
     "text": [
      "C:\\Users\\rutur\\anaconda3\\lib\\site-packages\\statsmodels\\base\\model.py:566: ConvergenceWarning: Maximum Likelihood optimization failed to converge. Check mle_retvals\n",
      "  warnings.warn(\"Maximum Likelihood optimization failed to \"\n"
     ]
    }
   ],
   "source": [
    "sarima_model = sm.tsa.statespace.SARIMAX(df1_ts_train, trend='n', order=(7,0,3), seasonal_order=(1,1,1,12))\n",
    "s_results = sarima_model.fit()\n",
    "print(s_results.summary())"
   ]
  },
  {
   "cell_type": "code",
   "execution_count": 33,
   "id": "07b9def3",
   "metadata": {
    "execution": {
     "iopub.execute_input": "2022-07-15T15:26:05.581204Z",
     "iopub.status.busy": "2022-07-15T15:26:05.580809Z",
     "iopub.status.idle": "2022-07-15T15:26:05.593723Z",
     "shell.execute_reply": "2022-07-15T15:26:05.592344Z"
    },
    "papermill": {
     "duration": 0.055794,
     "end_time": "2022-07-15T15:26:05.596696",
     "exception": false,
     "start_time": "2022-07-15T15:26:05.540902",
     "status": "completed"
    },
    "tags": []
   },
   "outputs": [],
   "source": [
    "s_pred = s_results.predict(start = len(df1_ts_train),end = len(df1_ts)-1)"
   ]
  },
  {
   "cell_type": "code",
   "execution_count": 34,
   "id": "03b403a0",
   "metadata": {
    "execution": {
     "iopub.execute_input": "2022-07-15T15:26:05.673340Z",
     "iopub.status.busy": "2022-07-15T15:26:05.672937Z",
     "iopub.status.idle": "2022-07-15T15:26:06.008154Z",
     "shell.execute_reply": "2022-07-15T15:26:06.006809Z"
    },
    "papermill": {
     "duration": 0.375928,
     "end_time": "2022-07-15T15:26:06.010730",
     "exception": false,
     "start_time": "2022-07-15T15:26:05.634802",
     "status": "completed"
    },
    "tags": []
   },
   "outputs": [
    {
     "data": {
      "image/png": "[encoded data removed]",
      "text/plain": [
       "<Figure size 1440x720 with 1 Axes>"
      ]
     },
     "metadata": {
      "needs_background": "light"
     },
     "output_type": "display_data"
    }
   ],
   "source": [
    "plt.figure(figsize = (20,10))\n",
    "df1_ts_test.plot(label = \"Test\")\n",
    "df1_ts_train.plot(label = \"Train\")\n",
    "s_pred.plot(label = 'Predict')\n",
    "plt.legend()\n",
    "plt.show()"
   ]
  },
  {
   "cell_type": "markdown",
   "id": "39ebce31",
   "metadata": {
    "papermill": {
     "duration": 0.038401,
     "end_time": "2022-07-15T15:26:06.086214",
     "exception": false,
     "start_time": "2022-07-15T15:26:06.047813",
     "status": "completed"
    },
    "tags": []
   },
   "source": [
    "# ------------------------------------- FB Prophet -------------------------------------\n",
    "\n",
    "FB prophet is using for time series forcasting . So we want to use date column and AQI bucket column only"
   ]
  },
  {
   "cell_type": "code",
   "execution_count": 36,
   "id": "aa117fae",
   "metadata": {
    "execution": {
     "iopub.execute_input": "2022-07-15T15:26:06.163125Z",
     "iopub.status.busy": "2022-07-15T15:26:06.162398Z",
     "iopub.status.idle": "2022-07-15T15:26:06.427825Z",
     "shell.execute_reply": "2022-07-15T15:26:06.426520Z"
    },
    "papermill": {
     "duration": 0.307379,
     "end_time": "2022-07-15T15:26:06.430563",
     "exception": false,
     "start_time": "2022-07-15T15:26:06.123184",
     "status": "completed"
    },
    "tags": []
   },
   "outputs": [
    {
     "name": "stdout",
     "output_type": "stream",
     "text": [
      "Collecting prophet\n",
      "  Downloading prophet-1.1.2-py3-none-win_amd64.whl (12.1 MB)\n",
      "Collecting holidays>=0.14.2\n",
      "  Downloading holidays-0.23-py3-none-any.whl (485 kB)\n",
      "Requirement already satisfied: numpy>=1.15.4 in c:\\users\\rutur\\anaconda3\\lib\\site-packages (from prophet) (1.20.3)\n",
      "Requirement already satisfied: python-dateutil>=2.8.0 in c:\\users\\rutur\\anaconda3\\lib\\site-packages (from prophet) (2.8.2)\n",
      "Collecting cmdstanpy>=1.0.4\n",
      "  Downloading cmdstanpy-1.1.0-py3-none-any.whl (83 kB)\n",
      "Collecting LunarCalendar>=0.0.9\n",
      "  Downloading LunarCalendar-0.0.9-py2.py3-none-any.whl (18 kB)\n",
      "Requirement already satisfied: matplotlib>=2.0.0 in c:\\users\\rutur\\anaconda3\\lib\\site-packages (from prophet) (3.4.3)\n",
      "Collecting convertdate>=2.1.2\n",
      "  Downloading convertdate-2.4.0-py3-none-any.whl (47 kB)\n",
      "Requirement already satisfied: tqdm>=4.36.1 in c:\\users\\rutur\\anaconda3\\lib\\site-packages (from prophet) (4.64.1)\n",
      "Requirement already satisfied: pandas>=1.0.4 in c:\\users\\rutur\\anaconda3\\lib\\site-packages (from prophet) (1.3.4)\n",
      "Collecting numpy>=1.15.4\n",
      "  Using cached numpy-1.24.2-cp39-cp39-win_amd64.whl (14.9 MB)\n",
      "Collecting pymeeus<=1,>=0.3.13\n",
      "  Downloading PyMeeus-0.5.12.tar.gz (5.8 MB)\n",
      "Collecting korean-lunar-calendar\n",
      "  Downloading korean_lunar_calendar-0.3.1-py3-none-any.whl (9.0 kB)\n",
      "Collecting hijri-converter\n",
      "  Downloading hijri_converter-2.2.4-py3-none-any.whl (14 kB)\n",
      "Collecting ephem>=3.7.5.3\n",
      "  Downloading ephem-4.1.4-cp39-cp39-win_amd64.whl (1.4 MB)\n",
      "Requirement already satisfied: pytz in c:\\users\\rutur\\anaconda3\\lib\\site-packages (from LunarCalendar>=0.0.9->prophet) (2021.3)\n",
      "Requirement already satisfied: kiwisolver>=1.0.1 in c:\\users\\rutur\\anaconda3\\lib\\site-packages (from matplotlib>=2.0.0->prophet) (1.3.1)\n",
      "Requirement already satisfied: cycler>=0.10 in c:\\users\\rutur\\anaconda3\\lib\\site-packages (from matplotlib>=2.0.0->prophet) (0.10.0)\n",
      "Requirement already satisfied: pillow>=6.2.0 in c:\\users\\rutur\\anaconda3\\lib\\site-packages (from matplotlib>=2.0.0->prophet) (8.4.0)\n",
      "Requirement already satisfied: pyparsing>=2.2.1 in c:\\users\\rutur\\anaconda3\\lib\\site-packages (from matplotlib>=2.0.0->prophet) (3.0.4)\n",
      "Requirement already satisfied: six in c:\\users\\rutur\\anaconda3\\lib\\site-packages (from cycler>=0.10->matplotlib>=2.0.0->prophet) (1.16.0)\n",
      "Requirement already satisfied: colorama in c:\\users\\rutur\\anaconda3\\lib\\site-packages (from tqdm>=4.36.1->prophet) (0.4.4)\n",
      "Building wheels for collected packages: pymeeus\n",
      "  Building wheel for pymeeus (setup.py): started\n",
      "  Building wheel for pymeeus (setup.py): finished with status 'done'\n",
      "  Created wheel for pymeeus: filename=PyMeeus-0.5.12-py3-none-any.whl size=732051 sha256=2531dd34ee02dea14d9fbe023560f07797e12004594a13ef67af26d5a5edd562\n",
      "  Stored in directory: c:\\users\\rutur\\appdata\\local\\pip\\cache\\wheels\\04\\1f\\e5\\8dd0c661cd8d252817655dc14a84f7ae045d6616594145aa81\n",
      "Successfully built pymeeus\n",
      "Installing collected packages: pymeeus, numpy, korean-lunar-calendar, hijri-converter, ephem, convertdate, LunarCalendar, holidays, cmdstanpy, prophet\n",
      "  Attempting uninstall: numpy\n",
      "    Found existing installation: numpy 1.20.3\n",
      "    Uninstalling numpy-1.20.3:\n",
      "      Successfully uninstalled numpy-1.20.3\n",
      "Successfully installed LunarCalendar-0.0.9 cmdstanpy-1.1.0 convertdate-2.4.0 ephem-4.1.4 hijri-converter-2.2.4 holidays-0.23 korean-lunar-calendar-0.3.1 numpy-1.24.2 prophet-1.1.2 pymeeus-0.5.12\n"
     ]
    },
    {
     "name": "stderr",
     "output_type": "stream",
     "text": [
      "ERROR: pip's dependency resolver does not currently take into account all the packages that are installed. This behaviour is the source of the following dependency conflicts.\n",
      "daal4py 2021.3.0 requires daal==2021.2.3, which is not installed.\n",
      "scipy 1.7.1 requires numpy<1.23.0,>=1.16.5, but you have numpy 1.24.2 which is incompatible.\n",
      "numba 0.54.1 requires numpy<1.21,>=1.17, but you have numpy 1.24.2 which is incompatible.\n",
      "en-core-web-sm 3.5.0 requires spacy<3.6.0,>=3.5.0, but you have spacy 2.3.9 which is incompatible.\n"
     ]
    },
    {
     "ename": "TypeError",
     "evalue": "'numpy._DTypeMeta' object is not subscriptable",
     "output_type": "error",
     "traceback": [
      "\u001b[1;31m---------------------------------------------------------------------------\u001b[0m",
      "\u001b[1;31mTypeError\u001b[0m                                 Traceback (most recent call last)",
      "\u001b[1;32m~\\AppData\\Local\\Temp/ipykernel_12524/2702029340.py\u001b[0m in \u001b[0;36m<module>\u001b[1;34m\u001b[0m\n\u001b[0;32m      1\u001b[0m \u001b[0mget_ipython\u001b[0m\u001b[1;33m(\u001b[0m\u001b[1;33m)\u001b[0m\u001b[1;33m.\u001b[0m\u001b[0msystem\u001b[0m\u001b[1;33m(\u001b[0m\u001b[1;34m'pip install prophet'\u001b[0m\u001b[1;33m)\u001b[0m\u001b[1;33m\u001b[0m\u001b[1;33m\u001b[0m\u001b[0m\n\u001b[1;32m----> 2\u001b[1;33m \u001b[1;32mfrom\u001b[0m \u001b[0mprophet\u001b[0m \u001b[1;32mimport\u001b[0m \u001b[0mProphet\u001b[0m\u001b[1;33m\u001b[0m\u001b[1;33m\u001b[0m\u001b[0m\n\u001b[0m",
      "\u001b[1;32m~\\anaconda3\\lib\\site-packages\\prophet\\__init__.py\u001b[0m in \u001b[0;36m<module>\u001b[1;34m\u001b[0m\n\u001b[0;32m      5\u001b[0m \u001b[1;31m# LICENSE file in the root directory of this source tree. An additional grant\u001b[0m\u001b[1;33m\u001b[0m\u001b[1;33m\u001b[0m\u001b[0m\n\u001b[0;32m      6\u001b[0m \u001b[1;31m# of patent rights can be found in the PATENTS file in the same directory.\u001b[0m\u001b[1;33m\u001b[0m\u001b[1;33m\u001b[0m\u001b[0m\n\u001b[1;32m----> 7\u001b[1;33m \u001b[1;32mfrom\u001b[0m \u001b[0mprophet\u001b[0m\u001b[1;33m.\u001b[0m\u001b[0mforecaster\u001b[0m \u001b[1;32mimport\u001b[0m \u001b[0mProphet\u001b[0m\u001b[1;33m\u001b[0m\u001b[1;33m\u001b[0m\u001b[0m\n\u001b[0m\u001b[0;32m      8\u001b[0m \u001b[1;33m\u001b[0m\u001b[0m\n\u001b[0;32m      9\u001b[0m \u001b[1;32mfrom\u001b[0m \u001b[0mpathlib\u001b[0m \u001b[1;32mimport\u001b[0m \u001b[0mPath\u001b[0m\u001b[1;33m\u001b[0m\u001b[1;33m\u001b[0m\u001b[0m\n",
      "\u001b[1;32m~\\anaconda3\\lib\\site-packages\\prophet\\forecaster.py\u001b[0m in \u001b[0;36m<module>\u001b[1;34m\u001b[0m\n\u001b[0;32m     15\u001b[0m \u001b[1;32mimport\u001b[0m \u001b[0mnumpy\u001b[0m \u001b[1;32mas\u001b[0m \u001b[0mnp\u001b[0m\u001b[1;33m\u001b[0m\u001b[1;33m\u001b[0m\u001b[0m\n\u001b[0;32m     16\u001b[0m \u001b[1;32mimport\u001b[0m \u001b[0mpandas\u001b[0m \u001b[1;32mas\u001b[0m \u001b[0mpd\u001b[0m\u001b[1;33m\u001b[0m\u001b[1;33m\u001b[0m\u001b[0m\n\u001b[1;32m---> 17\u001b[1;33m \u001b[1;32mfrom\u001b[0m \u001b[0mnumpy\u001b[0m\u001b[1;33m.\u001b[0m\u001b[0mtyping\u001b[0m \u001b[1;32mimport\u001b[0m \u001b[0mNDArray\u001b[0m\u001b[1;33m\u001b[0m\u001b[1;33m\u001b[0m\u001b[0m\n\u001b[0m\u001b[0;32m     18\u001b[0m \u001b[1;33m\u001b[0m\u001b[0m\n\u001b[0;32m     19\u001b[0m \u001b[1;32mfrom\u001b[0m \u001b[0mprophet\u001b[0m\u001b[1;33m.\u001b[0m\u001b[0mmake_holidays\u001b[0m \u001b[1;32mimport\u001b[0m \u001b[0mget_holiday_names\u001b[0m\u001b[1;33m,\u001b[0m \u001b[0mmake_holidays_df\u001b[0m\u001b[1;33m\u001b[0m\u001b[1;33m\u001b[0m\u001b[0m\n",
      "\u001b[1;32m~\\anaconda3\\lib\\site-packages\\numpy\\typing\\__init__.py\u001b[0m in \u001b[0;36m<module>\u001b[1;34m\u001b[0m\n\u001b[0;32m    156\u001b[0m \u001b[1;31m# further down in this file\u001b[0m\u001b[1;33m\u001b[0m\u001b[1;33m\u001b[0m\u001b[0m\n\u001b[0;32m    157\u001b[0m \u001b[1;33m\u001b[0m\u001b[0m\n\u001b[1;32m--> 158\u001b[1;33m from numpy._typing import (\n\u001b[0m\u001b[0;32m    159\u001b[0m     \u001b[0mArrayLike\u001b[0m\u001b[1;33m,\u001b[0m\u001b[1;33m\u001b[0m\u001b[1;33m\u001b[0m\u001b[0m\n\u001b[0;32m    160\u001b[0m     \u001b[0mDTypeLike\u001b[0m\u001b[1;33m,\u001b[0m\u001b[1;33m\u001b[0m\u001b[1;33m\u001b[0m\u001b[0m\n",
      "\u001b[1;32m~\\anaconda3\\lib\\site-packages\\numpy\\_typing\\__init__.py\u001b[0m in \u001b[0;36m<module>\u001b[1;34m\u001b[0m\n\u001b[0;32m    162\u001b[0m     \u001b[0m_ShapeLike\u001b[0m \u001b[1;32mas\u001b[0m \u001b[0m_ShapeLike\u001b[0m\u001b[1;33m,\u001b[0m\u001b[1;33m\u001b[0m\u001b[1;33m\u001b[0m\u001b[0m\n\u001b[0;32m    163\u001b[0m )\n\u001b[1;32m--> 164\u001b[1;33m from ._dtype_like import (\n\u001b[0m\u001b[0;32m    165\u001b[0m     \u001b[0mDTypeLike\u001b[0m \u001b[1;32mas\u001b[0m \u001b[0mDTypeLike\u001b[0m\u001b[1;33m,\u001b[0m\u001b[1;33m\u001b[0m\u001b[1;33m\u001b[0m\u001b[0m\n\u001b[0;32m    166\u001b[0m     \u001b[0m_DTypeLike\u001b[0m \u001b[1;32mas\u001b[0m \u001b[0m_DTypeLike\u001b[0m\u001b[1;33m,\u001b[0m\u001b[1;33m\u001b[0m\u001b[1;33m\u001b[0m\u001b[0m\n",
      "\u001b[1;32m~\\anaconda3\\lib\\site-packages\\numpy\\_typing\\_dtype_like.py\u001b[0m in \u001b[0;36m<module>\u001b[1;34m\u001b[0m\n\u001b[0;32m     15\u001b[0m \u001b[1;33m\u001b[0m\u001b[0m\n\u001b[0;32m     16\u001b[0m \u001b[1;32mfrom\u001b[0m \u001b[1;33m.\u001b[0m\u001b[0m_shape\u001b[0m \u001b[1;32mimport\u001b[0m \u001b[0m_ShapeLike\u001b[0m\u001b[1;33m\u001b[0m\u001b[1;33m\u001b[0m\u001b[0m\n\u001b[1;32m---> 17\u001b[1;33m \u001b[1;32mfrom\u001b[0m \u001b[1;33m.\u001b[0m\u001b[0m_generic_alias\u001b[0m \u001b[1;32mimport\u001b[0m \u001b[0m_DType\u001b[0m \u001b[1;32mas\u001b[0m \u001b[0mDType\u001b[0m\u001b[1;33m\u001b[0m\u001b[1;33m\u001b[0m\u001b[0m\n\u001b[0m\u001b[0;32m     18\u001b[0m \u001b[1;33m\u001b[0m\u001b[0m\n\u001b[0;32m     19\u001b[0m from ._char_codes import (\n",
      "\u001b[1;32m~\\anaconda3\\lib\\site-packages\\numpy\\_typing\\_generic_alias.py\u001b[0m in \u001b[0;36m<module>\u001b[1;34m\u001b[0m\n\u001b[0;32m    239\u001b[0m \u001b[1;33m\u001b[0m\u001b[0m\n\u001b[0;32m    240\u001b[0m \u001b[1;32mif\u001b[0m \u001b[0mTYPE_CHECKING\u001b[0m \u001b[1;32mor\u001b[0m \u001b[0msys\u001b[0m\u001b[1;33m.\u001b[0m\u001b[0mversion_info\u001b[0m \u001b[1;33m>=\u001b[0m \u001b[1;33m(\u001b[0m\u001b[1;36m3\u001b[0m\u001b[1;33m,\u001b[0m \u001b[1;36m9\u001b[0m\u001b[1;33m)\u001b[0m\u001b[1;33m:\u001b[0m\u001b[1;33m\u001b[0m\u001b[1;33m\u001b[0m\u001b[0m\n\u001b[1;32m--> 241\u001b[1;33m     \u001b[0m_DType\u001b[0m \u001b[1;33m=\u001b[0m \u001b[0mnp\u001b[0m\u001b[1;33m.\u001b[0m\u001b[0mdtype\u001b[0m\u001b[1;33m[\u001b[0m\u001b[0mScalarType\u001b[0m\u001b[1;33m]\u001b[0m\u001b[1;33m\u001b[0m\u001b[1;33m\u001b[0m\u001b[0m\n\u001b[0m\u001b[0;32m    242\u001b[0m     \u001b[0mNDArray\u001b[0m \u001b[1;33m=\u001b[0m \u001b[0mnp\u001b[0m\u001b[1;33m.\u001b[0m\u001b[0mndarray\u001b[0m\u001b[1;33m[\u001b[0m\u001b[0mAny\u001b[0m\u001b[1;33m,\u001b[0m \u001b[0mnp\u001b[0m\u001b[1;33m.\u001b[0m\u001b[0mdtype\u001b[0m\u001b[1;33m[\u001b[0m\u001b[0mScalarType\u001b[0m\u001b[1;33m]\u001b[0m\u001b[1;33m]\u001b[0m\u001b[1;33m\u001b[0m\u001b[1;33m\u001b[0m\u001b[0m\n\u001b[0;32m    243\u001b[0m \u001b[1;32melse\u001b[0m\u001b[1;33m:\u001b[0m\u001b[1;33m\u001b[0m\u001b[1;33m\u001b[0m\u001b[0m\n",
      "\u001b[1;31mTypeError\u001b[0m: 'numpy._DTypeMeta' object is not subscriptable"
     ]
    }
   ],
   "source": [
    "!pip install prophet\n",
    "from prophet import Prophet\n"
   ]
  },
  {
   "cell_type": "code",
   "execution_count": null,
   "id": "ba9966a3",
   "metadata": {
    "execution": {
     "iopub.execute_input": "2022-07-15T15:26:06.507553Z",
     "iopub.status.busy": "2022-07-15T15:26:06.507079Z",
     "iopub.status.idle": "2022-07-15T15:27:13.370124Z",
     "shell.execute_reply": "2022-07-15T15:27:13.368932Z"
    },
    "papermill": {
     "duration": 66.905383,
     "end_time": "2022-07-15T15:27:13.373043",
     "exception": false,
     "start_time": "2022-07-15T15:26:06.467660",
     "status": "completed"
    },
    "tags": []
   },
   "outputs": [],
   "source": [
    "!pip install --upgrade plotly"
   ]
  },
  {
   "cell_type": "code",
   "execution_count": null,
   "id": "1977a07c",
   "metadata": {
    "execution": {
     "iopub.execute_input": "2022-07-15T15:27:13.457161Z",
     "iopub.status.busy": "2022-07-15T15:27:13.456394Z",
     "iopub.status.idle": "2022-07-15T15:27:13.466796Z",
     "shell.execute_reply": "2022-07-15T15:27:13.465240Z"
    },
    "papermill": {
     "duration": 0.055243,
     "end_time": "2022-07-15T15:27:13.469228",
     "exception": false,
     "start_time": "2022-07-15T15:27:13.413985",
     "status": "completed"
    },
    "tags": []
   },
   "outputs": [],
   "source": [
    "alt_fb_df = station_day[['Date','AQI']]"
   ]
  },
  {
   "cell_type": "code",
   "execution_count": null,
   "id": "ca741e97",
   "metadata": {
    "execution": {
     "iopub.execute_input": "2022-07-15T15:27:13.552281Z",
     "iopub.status.busy": "2022-07-15T15:27:13.551906Z",
     "iopub.status.idle": "2022-07-15T15:27:13.595920Z",
     "shell.execute_reply": "2022-07-15T15:27:13.594613Z"
    },
    "papermill": {
     "duration": 0.089505,
     "end_time": "2022-07-15T15:27:13.599519",
     "exception": false,
     "start_time": "2022-07-15T15:27:13.510014",
     "status": "completed"
    },
    "tags": []
   },
   "outputs": [],
   "source": [
    "alt_fb_df[\"Date\"]= pd.to_datetime(alt_fb_df[\"Date\"])"
   ]
  },
  {
   "cell_type": "code",
   "execution_count": null,
   "id": "10142b55",
   "metadata": {
    "execution": {
     "iopub.execute_input": "2022-07-15T15:27:13.685109Z",
     "iopub.status.busy": "2022-07-15T15:27:13.684711Z",
     "iopub.status.idle": "2022-07-15T15:27:13.764627Z",
     "shell.execute_reply": "2022-07-15T15:27:13.763544Z"
    },
    "papermill": {
     "duration": 0.125835,
     "end_time": "2022-07-15T15:27:13.767477",
     "exception": false,
     "start_time": "2022-07-15T15:27:13.641642",
     "status": "completed"
    },
    "tags": []
   },
   "outputs": [],
   "source": [
    "alt_fb_df.AQI = alt_fb_df.groupby(pd.PeriodIndex(alt_fb_df['Date'], freq=\"M\"))['AQI'].apply(lambda x: x.fillna(x.mean()))"
   ]
  },
  {
   "cell_type": "code",
   "execution_count": null,
   "id": "2425002f",
   "metadata": {
    "execution": {
     "iopub.execute_input": "2022-07-15T15:27:13.851277Z",
     "iopub.status.busy": "2022-07-15T15:27:13.850465Z",
     "iopub.status.idle": "2022-07-15T15:27:13.857835Z",
     "shell.execute_reply": "2022-07-15T15:27:13.856885Z"
    },
    "papermill": {
     "duration": 0.052639,
     "end_time": "2022-07-15T15:27:13.860308",
     "exception": false,
     "start_time": "2022-07-15T15:27:13.807669",
     "status": "completed"
    },
    "tags": []
   },
   "outputs": [],
   "source": [
    "alt_fb_df = alt_fb_df.rename(columns={'Date':'ds','AQI':'y'})"
   ]
  },
  {
   "cell_type": "code",
   "execution_count": null,
   "id": "30e9e55f",
   "metadata": {
    "execution": {
     "iopub.execute_input": "2022-07-15T15:27:13.946983Z",
     "iopub.status.busy": "2022-07-15T15:27:13.946146Z",
     "iopub.status.idle": "2022-07-15T15:27:13.952254Z",
     "shell.execute_reply": "2022-07-15T15:27:13.951271Z"
    },
    "papermill": {
     "duration": 0.05213,
     "end_time": "2022-07-15T15:27:13.954753",
     "exception": false,
     "start_time": "2022-07-15T15:27:13.902623",
     "status": "completed"
    },
    "tags": []
   },
   "outputs": [],
   "source": [
    "alt_fb_df_train = alt_fb_df[:-26108]\n",
    "alt_fb_df_test = alt_fb_df[len(alt_fb_df)-26108:]"
   ]
  },
  {
   "cell_type": "code",
   "execution_count": null,
   "id": "27f6a7dc",
   "metadata": {
    "execution": {
     "iopub.execute_input": "2022-07-15T15:27:14.040697Z",
     "iopub.status.busy": "2022-07-15T15:27:14.039866Z",
     "iopub.status.idle": "2022-07-15T15:29:10.461508Z",
     "shell.execute_reply": "2022-07-15T15:29:10.458955Z"
    },
    "papermill": {
     "duration": 116.510657,
     "end_time": "2022-07-15T15:29:10.506844",
     "exception": false,
     "start_time": "2022-07-15T15:27:13.996187",
     "status": "completed"
    },
    "tags": []
   },
   "outputs": [],
   "source": [
    "alt_fbp = Prophet(daily_seasonality = True)\n",
    "alt_fbp.fit(alt_fb_df_train)\n",
    "\n"
   ]
  },
  {
   "cell_type": "code",
   "execution_count": null,
   "id": "5c3fa14f",
   "metadata": {
    "execution": {
     "iopub.execute_input": "2022-07-15T15:29:10.590955Z",
     "iopub.status.busy": "2022-07-15T15:29:10.590501Z",
     "iopub.status.idle": "2022-07-15T15:29:10.603833Z",
     "shell.execute_reply": "2022-07-15T15:29:10.602730Z"
    },
    "papermill": {
     "duration": 0.058652,
     "end_time": "2022-07-15T15:29:10.606369",
     "exception": false,
     "start_time": "2022-07-15T15:29:10.547717",
     "status": "completed"
    },
    "tags": []
   },
   "outputs": [],
   "source": [
    "alt_future = alt_fbp.make_future_dataframe(periods=365)"
   ]
  },
  {
   "cell_type": "code",
   "execution_count": null,
   "id": "42991f42",
   "metadata": {
    "execution": {
     "iopub.execute_input": "2022-07-15T15:29:10.690025Z",
     "iopub.status.busy": "2022-07-15T15:29:10.689194Z",
     "iopub.status.idle": "2022-07-15T15:29:15.869541Z",
     "shell.execute_reply": "2022-07-15T15:29:15.868373Z"
    },
    "papermill": {
     "duration": 5.225722,
     "end_time": "2022-07-15T15:29:15.872816",
     "exception": false,
     "start_time": "2022-07-15T15:29:10.647094",
     "status": "completed"
    },
    "tags": []
   },
   "outputs": [],
   "source": [
    "alt_forecast = alt_fbp.predict(alt_future)"
   ]
  },
  {
   "cell_type": "code",
   "execution_count": null,
   "id": "908c13a5",
   "metadata": {
    "execution": {
     "iopub.execute_input": "2022-07-15T15:29:15.957095Z",
     "iopub.status.busy": "2022-07-15T15:29:15.956690Z",
     "iopub.status.idle": "2022-07-15T15:29:16.574306Z",
     "shell.execute_reply": "2022-07-15T15:29:16.573311Z"
    },
    "papermill": {
     "duration": 0.662422,
     "end_time": "2022-07-15T15:29:16.576935",
     "exception": false,
     "start_time": "2022-07-15T15:29:15.914513",
     "status": "completed"
    },
    "tags": []
   },
   "outputs": [],
   "source": [
    "plt.figure(figsize = (20,10))\n",
    "plt.plot(alt_fb_df_train['ds'],alt_fb_df_train['y'],label = \"Train\")\n",
    "plt.plot(alt_fb_df_test['ds'],alt_fb_df_test['y'],label = \"Test\")\n",
    "plt.plot(alt_forecast['ds'],alt_forecast['yhat'],label = 'Predict')\n",
    "plt.legend()\n",
    "plt.show()\n"
   ]
  },
  {
   "cell_type": "markdown",
   "id": "8466b36f",
   "metadata": {
    "papermill": {
     "duration": 0.043612,
     "end_time": "2022-07-15T15:29:16.664343",
     "exception": false,
     "start_time": "2022-07-15T15:29:16.620731",
     "status": "completed"
    },
    "tags": []
   },
   "source": [
    "# ---------------------------------------- LSTM ----------------------------------------"
   ]
  },
  {
   "cell_type": "code",
   "execution_count": null,
   "id": "41223714",
   "metadata": {
    "execution": {
     "iopub.execute_input": "2022-07-15T15:29:16.757009Z",
     "iopub.status.busy": "2022-07-15T15:29:16.756479Z",
     "iopub.status.idle": "2022-07-15T15:29:16.762292Z",
     "shell.execute_reply": "2022-07-15T15:29:16.760969Z"
    },
    "papermill": {
     "duration": 0.056811,
     "end_time": "2022-07-15T15:29:16.765489",
     "exception": false,
     "start_time": "2022-07-15T15:29:16.708678",
     "status": "completed"
    },
    "tags": []
   },
   "outputs": [],
   "source": [
    "lstm_df = station_day"
   ]
  },
  {
   "cell_type": "code",
   "execution_count": null,
   "id": "0c94abc6",
   "metadata": {
    "execution": {
     "iopub.execute_input": "2022-07-15T15:29:16.853758Z",
     "iopub.status.busy": "2022-07-15T15:29:16.852909Z",
     "iopub.status.idle": "2022-07-15T15:29:16.896654Z",
     "shell.execute_reply": "2022-07-15T15:29:16.895308Z"
    },
    "papermill": {
     "duration": 0.091174,
     "end_time": "2022-07-15T15:29:16.899258",
     "exception": false,
     "start_time": "2022-07-15T15:29:16.808084",
     "status": "completed"
    },
    "tags": []
   },
   "outputs": [],
   "source": [
    "lstm_df[\"Date\"]= pd.to_datetime(lstm_df[\"Date\"])"
   ]
  },
  {
   "cell_type": "code",
   "execution_count": null,
   "id": "867867aa",
   "metadata": {
    "execution": {
     "iopub.execute_input": "2022-07-15T15:29:16.989651Z",
     "iopub.status.busy": "2022-07-15T15:29:16.989194Z",
     "iopub.status.idle": "2022-07-15T15:29:17.001709Z",
     "shell.execute_reply": "2022-07-15T15:29:17.000707Z"
    },
    "papermill": {
     "duration": 0.061503,
     "end_time": "2022-07-15T15:29:17.004000",
     "exception": false,
     "start_time": "2022-07-15T15:29:16.942497",
     "status": "completed"
    },
    "tags": []
   },
   "outputs": [],
   "source": [
    "lstm_df.drop(['AQI_Bucket', 'StationId'], axis=1, inplace=True)"
   ]
  },
  {
   "cell_type": "code",
   "execution_count": null,
   "id": "ac2f8013",
   "metadata": {
    "execution": {
     "iopub.execute_input": "2022-07-15T15:29:17.093404Z",
     "iopub.status.busy": "2022-07-15T15:29:17.092974Z",
     "iopub.status.idle": "2022-07-15T15:29:17.106946Z",
     "shell.execute_reply": "2022-07-15T15:29:17.105697Z"
    },
    "papermill": {
     "duration": 0.062578,
     "end_time": "2022-07-15T15:29:17.109767",
     "exception": false,
     "start_time": "2022-07-15T15:29:17.047189",
     "status": "completed"
    },
    "tags": []
   },
   "outputs": [],
   "source": [
    "lstm_df=lstm_df.dropna()"
   ]
  },
  {
   "cell_type": "code",
   "execution_count": null,
   "id": "bcd4a74c",
   "metadata": {
    "execution": {
     "iopub.execute_input": "2022-07-15T15:29:17.198053Z",
     "iopub.status.busy": "2022-07-15T15:29:17.197662Z",
     "iopub.status.idle": "2022-07-15T15:29:17.214076Z",
     "shell.execute_reply": "2022-07-15T15:29:17.212500Z"
    },
    "papermill": {
     "duration": 0.065711,
     "end_time": "2022-07-15T15:29:17.218603",
     "exception": false,
     "start_time": "2022-07-15T15:29:17.152892",
     "status": "completed"
    },
    "tags": []
   },
   "outputs": [],
   "source": [
    "lstm_df.info()"
   ]
  },
  {
   "cell_type": "code",
   "execution_count": null,
   "id": "c4d850aa",
   "metadata": {
    "execution": {
     "iopub.execute_input": "2022-07-15T15:29:17.307280Z",
     "iopub.status.busy": "2022-07-15T15:29:17.306865Z",
     "iopub.status.idle": "2022-07-15T15:29:17.313547Z",
     "shell.execute_reply": "2022-07-15T15:29:17.312618Z"
    },
    "papermill": {
     "duration": 0.052993,
     "end_time": "2022-07-15T15:29:17.315654",
     "exception": false,
     "start_time": "2022-07-15T15:29:17.262661",
     "status": "completed"
    },
    "tags": []
   },
   "outputs": [],
   "source": [
    "dates = lstm_df['Date']\n",
    "lstm_df.drop('Date', axis=1,inplace=True)"
   ]
  },
  {
   "cell_type": "code",
   "execution_count": null,
   "id": "ea44913b",
   "metadata": {
    "execution": {
     "iopub.execute_input": "2022-07-15T15:29:17.405901Z",
     "iopub.status.busy": "2022-07-15T15:29:17.405517Z",
     "iopub.status.idle": "2022-07-15T15:29:17.419633Z",
     "shell.execute_reply": "2022-07-15T15:29:17.418491Z"
    },
    "papermill": {
     "duration": 0.063128,
     "end_time": "2022-07-15T15:29:17.422452",
     "exception": false,
     "start_time": "2022-07-15T15:29:17.359324",
     "status": "completed"
    },
    "tags": []
   },
   "outputs": [],
   "source": [
    "from sklearn import preprocessing\n",
    "min_max_scaler = preprocessing.MinMaxScaler()\n",
    "\n",
    "col_names = []\n",
    "for i in lstm_df.columns:\n",
    "    col_names.append(i)\n",
    "\n",
    "lstm_df[col_names] = min_max_scaler.fit_transform(lstm_df[col_names])"
   ]
  },
  {
   "cell_type": "code",
   "execution_count": null,
   "id": "10d723b5",
   "metadata": {
    "execution": {
     "iopub.execute_input": "2022-07-15T15:29:17.515287Z",
     "iopub.status.busy": "2022-07-15T15:29:17.514849Z",
     "iopub.status.idle": "2022-07-15T15:29:17.520978Z",
     "shell.execute_reply": "2022-07-15T15:29:17.519992Z"
    },
    "papermill": {
     "duration": 0.05453,
     "end_time": "2022-07-15T15:29:17.523283",
     "exception": false,
     "start_time": "2022-07-15T15:29:17.468753",
     "status": "completed"
    },
    "tags": []
   },
   "outputs": [],
   "source": [
    "x = lstm_df.drop(columns =['AQI'])\n",
    "y = lstm_df['AQI']"
   ]
  },
  {
   "cell_type": "code",
   "execution_count": null,
   "id": "e2e1728e",
   "metadata": {
    "execution": {
     "iopub.execute_input": "2022-07-15T15:29:17.612521Z",
     "iopub.status.busy": "2022-07-15T15:29:17.611718Z",
     "iopub.status.idle": "2022-07-15T15:29:17.669211Z",
     "shell.execute_reply": "2022-07-15T15:29:17.668043Z"
    },
    "papermill": {
     "duration": 0.106078,
     "end_time": "2022-07-15T15:29:17.672281",
     "exception": false,
     "start_time": "2022-07-15T15:29:17.566203",
     "status": "completed"
    },
    "tags": []
   },
   "outputs": [],
   "source": [
    "x.describe()"
   ]
  },
  {
   "cell_type": "code",
   "execution_count": null,
   "id": "43577dee",
   "metadata": {
    "execution": {
     "iopub.execute_input": "2022-07-15T15:29:17.766947Z",
     "iopub.status.busy": "2022-07-15T15:29:17.766558Z",
     "iopub.status.idle": "2022-07-15T15:29:17.775457Z",
     "shell.execute_reply": "2022-07-15T15:29:17.773936Z"
    },
    "papermill": {
     "duration": 0.059557,
     "end_time": "2022-07-15T15:29:17.778400",
     "exception": false,
     "start_time": "2022-07-15T15:29:17.718843",
     "status": "completed"
    },
    "tags": []
   },
   "outputs": [],
   "source": [
    "dates = np.array(dates)\n",
    "dates"
   ]
  },
  {
   "cell_type": "code",
   "execution_count": null,
   "id": "29476ac7",
   "metadata": {
    "execution": {
     "iopub.execute_input": "2022-07-15T15:29:17.870806Z",
     "iopub.status.busy": "2022-07-15T15:29:17.870355Z",
     "iopub.status.idle": "2022-07-15T15:29:17.875981Z",
     "shell.execute_reply": "2022-07-15T15:29:17.875045Z"
    },
    "papermill": {
     "duration": 0.055036,
     "end_time": "2022-07-15T15:29:17.878367",
     "exception": false,
     "start_time": "2022-07-15T15:29:17.823331",
     "status": "completed"
    },
    "tags": []
   },
   "outputs": [],
   "source": [
    "x = np.array(x)\n",
    "x = np.reshape(x, (x.shape[0], x.shape[1], 1))"
   ]
  },
  {
   "cell_type": "code",
   "execution_count": null,
   "id": "0db8df08",
   "metadata": {
    "execution": {
     "iopub.execute_input": "2022-07-15T15:29:17.971099Z",
     "iopub.status.busy": "2022-07-15T15:29:17.969777Z",
     "iopub.status.idle": "2022-07-15T15:29:17.975319Z",
     "shell.execute_reply": "2022-07-15T15:29:17.974501Z"
    },
    "papermill": {
     "duration": 0.053766,
     "end_time": "2022-07-15T15:29:17.977871",
     "exception": false,
     "start_time": "2022-07-15T15:29:17.924105",
     "status": "completed"
    },
    "tags": []
   },
   "outputs": [],
   "source": [
    "y = np.array(y)\n",
    "y = y.reshape(-1,)"
   ]
  },
  {
   "cell_type": "code",
   "execution_count": null,
   "id": "b0ef1123",
   "metadata": {
    "execution": {
     "iopub.execute_input": "2022-07-15T15:29:18.071022Z",
     "iopub.status.busy": "2022-07-15T15:29:18.070566Z",
     "iopub.status.idle": "2022-07-15T15:29:18.076789Z",
     "shell.execute_reply": "2022-07-15T15:29:18.075860Z"
    },
    "papermill": {
     "duration": 0.056113,
     "end_time": "2022-07-15T15:29:18.079356",
     "exception": false,
     "start_time": "2022-07-15T15:29:18.023243",
     "status": "completed"
    },
    "tags": []
   },
   "outputs": [],
   "source": [
    "dates_train, x_train, y_train = dates[:1500], x[:1500], y[:1500]\n",
    "dates_test, x_test, y_test = dates[1500:], x[1500:], y[1500:]"
   ]
  },
  {
   "cell_type": "code",
   "execution_count": null,
   "id": "ce226db0",
   "metadata": {
    "execution": {
     "iopub.execute_input": "2022-07-15T15:29:18.174470Z",
     "iopub.status.busy": "2022-07-15T15:29:18.174046Z",
     "iopub.status.idle": "2022-07-15T15:29:18.182982Z",
     "shell.execute_reply": "2022-07-15T15:29:18.181641Z"
    },
    "papermill": {
     "duration": 0.058199,
     "end_time": "2022-07-15T15:29:18.185364",
     "exception": false,
     "start_time": "2022-07-15T15:29:18.127165",
     "status": "completed"
    },
    "tags": []
   },
   "outputs": [],
   "source": [
    "x_train.shape"
   ]
  },
  {
   "cell_type": "code",
   "execution_count": null,
   "id": "3e747d9e",
   "metadata": {
    "execution": {
     "iopub.execute_input": "2022-07-15T15:29:18.276075Z",
     "iopub.status.busy": "2022-07-15T15:29:18.275648Z",
     "iopub.status.idle": "2022-07-15T15:29:19.716467Z",
     "shell.execute_reply": "2022-07-15T15:29:19.715229Z"
    },
    "papermill": {
     "duration": 1.490341,
     "end_time": "2022-07-15T15:29:19.719609",
     "exception": false,
     "start_time": "2022-07-15T15:29:18.229268",
     "status": "completed"
    },
    "tags": []
   },
   "outputs": [],
   "source": [
    "from keras.models import Sequential\n",
    "from keras.layers import Dense\n",
    "from keras.layers import LSTM\n",
    "from keras.layers import Dropout\n",
    "from keras.layers import InputLayer\n",
    "\n",
    "model_lstm = Sequential()\n",
    "\n",
    "model_lstm.add(InputLayer((12,1)))\n",
    "\n",
    "model_lstm.add(LSTM(50))\n",
    "\n",
    "model_lstm.add(Dense(34 ,'relu'))\n",
    "# model_lstm.add(Dropout(0.25))\n",
    "\n",
    "model_lstm.add(Dense(15 ,'relu'))\n",
    "\n",
    "model_lstm.add(Dense(1 ,'relu' ))"
   ]
  },
  {
   "cell_type": "code",
   "execution_count": null,
   "id": "c4f6fbaf",
   "metadata": {
    "execution": {
     "iopub.execute_input": "2022-07-15T15:29:19.816376Z",
     "iopub.status.busy": "2022-07-15T15:29:19.815644Z",
     "iopub.status.idle": "2022-07-15T15:29:19.822065Z",
     "shell.execute_reply": "2022-07-15T15:29:19.821022Z"
    },
    "papermill": {
     "duration": 0.060595,
     "end_time": "2022-07-15T15:29:19.825305",
     "exception": false,
     "start_time": "2022-07-15T15:29:19.764710",
     "status": "completed"
    },
    "tags": []
   },
   "outputs": [],
   "source": [
    "model_lstm.summary()"
   ]
  },
  {
   "cell_type": "code",
   "execution_count": null,
   "id": "cf9adb88",
   "metadata": {
    "execution": {
     "iopub.execute_input": "2022-07-15T15:29:19.919884Z",
     "iopub.status.busy": "2022-07-15T15:29:19.919137Z",
     "iopub.status.idle": "2022-07-15T15:29:19.934521Z",
     "shell.execute_reply": "2022-07-15T15:29:19.933561Z"
    },
    "papermill": {
     "duration": 0.065726,
     "end_time": "2022-07-15T15:29:19.937175",
     "exception": false,
     "start_time": "2022-07-15T15:29:19.871449",
     "status": "completed"
    },
    "tags": []
   },
   "outputs": [],
   "source": [
    "model_lstm.compile(\n",
    "    optimizer = 'adam',\n",
    "    loss = 'mse',\n",
    "    metrics = ['accuracy']\n",
    ")"
   ]
  },
  {
   "cell_type": "code",
   "execution_count": null,
   "id": "e4c07bb8",
   "metadata": {
    "execution": {
     "iopub.execute_input": "2022-07-15T15:29:20.028668Z",
     "iopub.status.busy": "2022-07-15T15:29:20.028266Z",
     "iopub.status.idle": "2022-07-15T15:29:27.999913Z",
     "shell.execute_reply": "2022-07-15T15:29:27.998594Z"
    },
    "papermill": {
     "duration": 8.021638,
     "end_time": "2022-07-15T15:29:28.002882",
     "exception": false,
     "start_time": "2022-07-15T15:29:19.981244",
     "status": "completed"
    },
    "tags": []
   },
   "outputs": [],
   "source": [
    "lstm_history = model_lstm.fit(x_train,y_train,validation_split=0.33 , epochs = 10)"
   ]
  },
  {
   "cell_type": "code",
   "execution_count": null,
   "id": "b27d8e3c",
   "metadata": {
    "execution": {
     "iopub.execute_input": "2022-07-15T15:29:28.117710Z",
     "iopub.status.busy": "2022-07-15T15:29:28.116485Z",
     "iopub.status.idle": "2022-07-15T15:29:29.645068Z",
     "shell.execute_reply": "2022-07-15T15:29:29.643712Z"
    },
    "papermill": {
     "duration": 1.58925,
     "end_time": "2022-07-15T15:29:29.648289",
     "exception": false,
     "start_time": "2022-07-15T15:29:28.059039",
     "status": "completed"
    },
    "tags": []
   },
   "outputs": [],
   "source": [
    "lstm_y_pred = model_lstm.predict(x_test)"
   ]
  },
  {
   "cell_type": "code",
   "execution_count": 1,
   "id": "4dff1f3a",
   "metadata": {
    "execution": {
     "iopub.execute_input": "2022-07-15T15:29:29.753761Z",
     "iopub.status.busy": "2022-07-15T15:29:29.753306Z",
     "iopub.status.idle": "2022-07-15T15:29:30.073563Z",
     "shell.execute_reply": "2022-07-15T15:29:30.072160Z"
    },
    "papermill": {
     "duration": 0.376426,
     "end_time": "2022-07-15T15:29:30.076925",
     "exception": false,
     "start_time": "2022-07-15T15:29:29.700499",
     "status": "completed"
    },
    "tags": []
   },
   "outputs": [
    {
     "ename": "NameError",
     "evalue": "name 'plt' is not defined",
     "output_type": "error",
     "traceback": [
      "\u001b[1;31m---------------------------------------------------------------------------\u001b[0m",
      "\u001b[1;31mNameError\u001b[0m                                 Traceback (most recent call last)",
      "\u001b[1;32m~\\AppData\\Local\\Temp\\ipykernel_12032\\1862751581.py\u001b[0m in \u001b[0;36m<module>\u001b[1;34m\u001b[0m\n\u001b[1;32m----> 1\u001b[1;33m \u001b[0mplt\u001b[0m\u001b[1;33m.\u001b[0m\u001b[0mfigure\u001b[0m\u001b[1;33m(\u001b[0m\u001b[0mfigsize\u001b[0m \u001b[1;33m=\u001b[0m \u001b[1;33m(\u001b[0m\u001b[1;36m20\u001b[0m\u001b[1;33m,\u001b[0m\u001b[1;36m10\u001b[0m\u001b[1;33m)\u001b[0m\u001b[1;33m)\u001b[0m\u001b[1;33m\u001b[0m\u001b[1;33m\u001b[0m\u001b[0m\n\u001b[0m\u001b[0;32m      2\u001b[0m \u001b[0mplt\u001b[0m\u001b[1;33m.\u001b[0m\u001b[0mplot\u001b[0m\u001b[1;33m(\u001b[0m\u001b[0mdates_train\u001b[0m\u001b[1;33m[\u001b[0m\u001b[1;33m-\u001b[0m\u001b[1;36m100\u001b[0m\u001b[1;33m:\u001b[0m\u001b[1;33m]\u001b[0m\u001b[1;33m,\u001b[0m\u001b[0my_train\u001b[0m\u001b[1;33m[\u001b[0m\u001b[1;33m-\u001b[0m\u001b[1;36m100\u001b[0m\u001b[1;33m:\u001b[0m\u001b[1;33m]\u001b[0m\u001b[1;33m,\u001b[0m\u001b[0mlabel\u001b[0m \u001b[1;33m=\u001b[0m \u001b[1;34m\"Train\"\u001b[0m\u001b[1;33m)\u001b[0m\u001b[1;33m\u001b[0m\u001b[1;33m\u001b[0m\u001b[0m\n\u001b[0;32m      3\u001b[0m \u001b[0mplt\u001b[0m\u001b[1;33m.\u001b[0m\u001b[0mplot\u001b[0m\u001b[1;33m(\u001b[0m\u001b[0mdates_test\u001b[0m\u001b[1;33m[\u001b[0m\u001b[1;33m:\u001b[0m\u001b[1;36m100\u001b[0m\u001b[1;33m]\u001b[0m\u001b[1;33m,\u001b[0m\u001b[0my_test\u001b[0m\u001b[1;33m[\u001b[0m\u001b[1;33m:\u001b[0m\u001b[1;36m100\u001b[0m\u001b[1;33m]\u001b[0m\u001b[1;33m,\u001b[0m\u001b[0mlabel\u001b[0m \u001b[1;33m=\u001b[0m \u001b[1;34m\"Test\"\u001b[0m\u001b[1;33m)\u001b[0m\u001b[1;33m\u001b[0m\u001b[1;33m\u001b[0m\u001b[0m\n\u001b[0;32m      4\u001b[0m \u001b[0mplt\u001b[0m\u001b[1;33m.\u001b[0m\u001b[0mplot\u001b[0m\u001b[1;33m(\u001b[0m\u001b[0mdates_test\u001b[0m\u001b[1;33m[\u001b[0m\u001b[1;33m:\u001b[0m\u001b[1;36m100\u001b[0m\u001b[1;33m]\u001b[0m\u001b[1;33m,\u001b[0m\u001b[0mlstm_y_pred\u001b[0m\u001b[1;33m[\u001b[0m\u001b[1;33m:\u001b[0m\u001b[1;36m100\u001b[0m\u001b[1;33m]\u001b[0m\u001b[1;33m,\u001b[0m\u001b[0mlabel\u001b[0m \u001b[1;33m=\u001b[0m \u001b[1;34m'Predict'\u001b[0m\u001b[1;33m)\u001b[0m\u001b[1;33m\u001b[0m\u001b[1;33m\u001b[0m\u001b[0m\n\u001b[0;32m      5\u001b[0m \u001b[0mplt\u001b[0m\u001b[1;33m.\u001b[0m\u001b[0mlegend\u001b[0m\u001b[1;33m(\u001b[0m\u001b[1;33m)\u001b[0m\u001b[1;33m\u001b[0m\u001b[1;33m\u001b[0m\u001b[0m\n",
      "\u001b[1;31mNameError\u001b[0m: name 'plt' is not defined"
     ]
    }
   ],
   "source": [
    "plt.figure(figsize = (20,10))\n",
    "plt.plot(dates_train[-100:],y_train[-100:],label = \"Train\")\n",
    "plt.plot(dates_test[:100],y_test[:100],label = \"Test\")\n",
    "plt.plot(dates_test[:100],lstm_y_pred[:100],label = 'Predict')\n",
    "plt.legend()\n",
    "plt.show()\n"
   ]
  },
  {
   "cell_type": "code",
   "execution_count": null,
   "id": "b7753c1c",
   "metadata": {},
   "outputs": [],
   "source": []
  }
 ],
 "metadata": {
  "kernelspec": {
   "display_name": "Python 3 (ipykernel)",
   "language": "python",
   "name": "python3"
  },
  "language_info": {
   "codemirror_mode": {
    "name": "ipython",
    "version": 3
   },
   "file_extension": ".py",
   "mimetype": "text/x-python",
   "name": "python",
   "nbconvert_exporter": "python",
   "pygments_lexer": "ipython3",
   "version": "3.9.13"
  },
  "papermill": {
   "default_parameters": {},
   "duration": 389.236269,
   "end_time": "2022-07-15T15:29:46.055223",
   "environment_variables": {},
   "exception": null,
   "input_path": "__notebook__.ipynb",
   "output_path": "__notebook__.ipynb",
   "parameters": {},
   "start_time": "2022-07-15T15:23:16.818954",
   "version": "2.3.4"
  }
 },
 "nbformat": 4,
 "nbformat_minor": 5
}
